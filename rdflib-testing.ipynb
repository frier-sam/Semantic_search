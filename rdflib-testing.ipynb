{
 "cells": [
  {
   "cell_type": "code",
   "execution_count": 1,
   "metadata": {},
   "outputs": [
    {
     "name": "stdout",
     "output_type": "stream",
     "text": [
      "graph has 87 statements.\n"
     ]
    }
   ],
   "source": [
    "import rdflib\n",
    "\n",
    "g = rdflib.Graph()\n",
    "result = g.parse(\"http://www.w3.org/People/Berners-Lee/card\")\n",
    "\n",
    "print(\"graph has %s statements.\" % len(g))\n",
    "# prints graph has 79 statements.\n",
    "\n",
    "for subj, pred, obj in g:\n",
    "   if (subj, pred, obj) not in g:\n",
    "       raise Exception(\"It better be!\")\n",
    "\n",
    "s = g.serialize(format='turtle')"
   ]
  },
  {
   "cell_type": "code",
   "execution_count": 3,
   "metadata": {
    "collapsed": true
   },
   "outputs": [
    {
     "name": "stdout",
     "output_type": "stream",
     "text": [
      "(rdflib.term.URIRef('http://www.ecs.soton.ac.uk/~dt2/dlstuff/www2006_data#panel-panelk01'), rdflib.term.URIRef('http://www.w3.org/2000/01/rdf-schema#label'), rdflib.term.Literal('The Next Wave of the Web (Plenary Panel)'))\n",
      "(rdflib.term.URIRef('https://timbl.com/timbl/Public/friends.ttl'), rdflib.term.URIRef('http://www.w3.org/1999/02/22-rdf-syntax-ns#type'), rdflib.term.URIRef('http://xmlns.com/foaf/0.1/PersonalProfileDocument'))\n",
      "(rdflib.term.URIRef('http://www.w3.org/People/Berners-Lee/card#i'), rdflib.term.URIRef('http://www.w3.org/ns/auth/cert#key'), rdflib.term.BNode('N7ea1cec36f3c4c28960bef2d795a19b6'))\n",
      "(rdflib.term.URIRef('https://www.w3.org/People/Berners-Lee/card#i'), rdflib.term.URIRef('http://xmlns.com/foaf/0.1/givenname'), rdflib.term.Literal('Timothy'))\n",
      "(rdflib.term.BNode('Naf4bfad726e148fc882eff1350f5ce03'), rdflib.term.URIRef('http://www.w3.org/2000/10/swap/pim/contact#postalCode'), rdflib.term.Literal('02139'))\n",
      "(rdflib.term.URIRef('https://www.w3.org/People/Berners-Lee/card#i'), rdflib.term.URIRef('http://xmlns.com/foaf/0.1/workplaceHomepage'), rdflib.term.URIRef('https://www.w3.org/'))\n",
      "(rdflib.term.URIRef('https://www.w3.org/People/Berners-Lee/card#i'), rdflib.term.URIRef('http://xmlns.com/foaf/0.1/family_name'), rdflib.term.Literal('Berners-Lee'))\n",
      "(rdflib.term.URIRef('http://www.w3.org/People/Berners-Lee/card'), rdflib.term.URIRef('http://xmlns.com/foaf/0.1/primaryTopic'), rdflib.term.URIRef('https://www.w3.org/People/Berners-Lee/card#i'))\n",
      "(rdflib.term.URIRef('https://www.w3.org/People/Berners-Lee/card#i'), rdflib.term.URIRef('http://www.w3.org/1999/02/22-rdf-syntax-ns#type'), rdflib.term.URIRef('http://www.w3.org/2000/10/swap/pim/contact#Male'))\n",
      "(rdflib.term.URIRef('http://dig.csail.mit.edu/2005/ajar/ajaw/data#Tabulator'), rdflib.term.URIRef('http://usefulinc.com/ns/doap#developer'), rdflib.term.URIRef('https://www.w3.org/People/Berners-Lee/card#i'))\n",
      "(rdflib.term.BNode('N2fff3ecf12344cdebe69815aa92cfc8c'), rdflib.term.URIRef('http://www.w3.org/1999/02/22-rdf-syntax-ns#type'), rdflib.term.URIRef('http://www.w3.org/2006/vcard/ns#Work'))\n",
      "(rdflib.term.URIRef('https://www.w3.org/People/Berners-Lee/card#i'), rdflib.term.URIRef('http://xmlns.com/foaf/0.1/mbox'), rdflib.term.URIRef('mailto:timbl@w3.org'))\n",
      "(rdflib.term.BNode('N30970764fffb462ca9cc110951c82e5e'), rdflib.term.URIRef('http://www.w3.org/2000/10/swap/pim/contact#address'), rdflib.term.BNode('Naf4bfad726e148fc882eff1350f5ce03'))\n",
      "(rdflib.term.URIRef('https://timbl.com/timbl/Public/friends.ttl'), rdflib.term.URIRef('http://creativecommons.org/ns#license'), rdflib.term.URIRef('http://creativecommons.org/licenses/by-nc/3.0/'))\n",
      "(rdflib.term.URIRef('https://www.w3.org/People/Berners-Lee/card#i'), rdflib.term.URIRef('http://www.w3.org/ns/solid/terms#publicTypeIndex'), rdflib.term.URIRef('https://timbl.com/timbl/Public/PublicTypeIndex.ttl'))\n",
      "(rdflib.term.URIRef('http://dig.csail.mit.edu/2007/01/camp/data#course'), rdflib.term.URIRef('http://xmlns.com/foaf/0.1/maker'), rdflib.term.URIRef('https://www.w3.org/People/Berners-Lee/card#i'))\n",
      "(rdflib.term.URIRef('https://www.w3.org/People/Berners-Lee/card#i'), rdflib.term.URIRef('http://www.w3.org/2000/01/rdf-schema#label'), rdflib.term.Literal('Tim Berners-Lee'))\n",
      "(rdflib.term.URIRef('https://www.w3.org/People/Berners-Lee/card#i'), rdflib.term.URIRef('http://xmlns.com/foaf/0.1/account'), rdflib.term.URIRef('http://en.wikipedia.org/wiki/User:Timbl'))\n",
      "(rdflib.term.URIRef('http://dig.csail.mit.edu/breadcrumbs/blog/4'), rdflib.term.URIRef('http://purl.org/dc/elements/1.1/title'), rdflib.term.Literal(\"timbl's blog on DIG\"))\n",
      "(rdflib.term.BNode('N424d8e81cd954acebac301a7ed6c7be0'), rdflib.term.URIRef('http://www.w3.org/2003/01/geo/wgs84_pos#long'), rdflib.term.Literal('-71.091840'))\n",
      "(rdflib.term.BNode('N6b94b85559f14bbb891f9e3e7076da37'), rdflib.term.URIRef('http://www.w3.org/2006/vcard/ns#locality'), rdflib.term.Literal('Cambridge'))\n",
      "(rdflib.term.URIRef('https://timbl.com/timbl/Public/friends.ttl'), rdflib.term.URIRef('http://xmlns.com/foaf/0.1/primaryTopic'), rdflib.term.URIRef('https://www.w3.org/People/Berners-Lee/card#i'))\n",
      "(rdflib.term.URIRef('https://www.w3.org/People/Berners-Lee/card#i'), rdflib.term.URIRef('http://xmlns.com/foaf/0.1/openid'), rdflib.term.URIRef('https://www.w3.org/People/Berners-Lee/'))\n",
      "(rdflib.term.URIRef('https://www.w3.org/People/Berners-Lee/card#i'), rdflib.term.URIRef('http://www.w3.org/1999/02/22-rdf-syntax-ns#type'), rdflib.term.URIRef('http://xmlns.com/foaf/0.1/Person'))\n",
      "(rdflib.term.URIRef('http://www.w3.org/People/Berners-Lee/card'), rdflib.term.URIRef('http://creativecommons.org/ns#license'), rdflib.term.URIRef('http://creativecommons.org/licenses/by-nc/3.0/'))\n",
      "(rdflib.term.URIRef('https://www.w3.org/People/Berners-Lee/card#i'), rdflib.term.URIRef('http://xmlns.com/foaf/0.1/title'), rdflib.term.Literal('Sir'))\n",
      "(rdflib.term.URIRef('http://www.w3.org/DesignIssues/Overview.html'), rdflib.term.URIRef('http://purl.org/dc/elements/1.1/title'), rdflib.term.Literal('Design Issues for the World Wide Web'))\n",
      "(rdflib.term.URIRef('https://www.w3.org/People/Berners-Lee/card#i'), rdflib.term.URIRef('http://xmlns.com/foaf/0.1/weblog'), rdflib.term.URIRef('http://dig.csail.mit.edu/breadcrumbs/blog/4'))\n",
      "(rdflib.term.URIRef('https://www.w3.org/People/Berners-Lee/card#i'), rdflib.term.URIRef('http://www.w3.org/ns/solid/terms#oidcIssuer'), rdflib.term.URIRef('https://timbl.com'))\n",
      "(rdflib.term.BNode('Naf4bfad726e148fc882eff1350f5ce03'), rdflib.term.URIRef('http://www.w3.org/2000/10/swap/pim/contact#country'), rdflib.term.Literal('USA'))\n",
      "(rdflib.term.BNode('N6b94b85559f14bbb891f9e3e7076da37'), rdflib.term.URIRef('http://www.w3.org/2006/vcard/ns#street-address'), rdflib.term.Literal('MIT room 32-G-52432 Vassar Street'))\n",
      "(rdflib.term.URIRef('https://www.w3.org/People/Berners-Lee/card#i'), rdflib.term.URIRef('http://xmlns.com/foaf/0.1/nick'), rdflib.term.Literal('TimBL'))\n",
      "(rdflib.term.URIRef('http://wiki.ontoworld.org/index.php/_IRW2006'), rdflib.term.URIRef('http://www.w3.org/2000/10/swap/pim/contact#participant'), rdflib.term.URIRef('https://www.w3.org/People/Berners-Lee/card#i'))\n",
      "(rdflib.term.URIRef('http://wiki.ontoworld.org/index.php/_IRW2006'), rdflib.term.URIRef('http://purl.org/dc/elements/1.1/title'), rdflib.term.Literal('Identity, Reference and the Web workshop 2006'))\n",
      "(rdflib.term.BNode('N7cc91171bb434bd2b572d91cb421d442'), rdflib.term.URIRef('http://www.w3.org/2003/01/geo/wgs84_pos#long'), rdflib.term.Literal('-71.091840'))\n",
      "(rdflib.term.BNode('N30970764fffb462ca9cc110951c82e5e'), rdflib.term.URIRef('http://www.w3.org/2003/01/geo/wgs84_pos#location'), rdflib.term.BNode('N7cc91171bb434bd2b572d91cb421d442'))\n",
      "(rdflib.term.URIRef('http://dig.csail.mit.edu/breadcrumbs/blog/4'), rdflib.term.URIRef('http://xmlns.com/foaf/0.1/maker'), rdflib.term.URIRef('https://www.w3.org/People/Berners-Lee/card#i'))\n",
      "(rdflib.term.URIRef('https://www.w3.org/People/Berners-Lee/card#i'), rdflib.term.URIRef('http://www.w3.org/2000/10/swap/pim/contact#assistant'), rdflib.term.URIRef('https://www.w3.org/People/Berners-Lee/card#amy'))\n",
      "(rdflib.term.URIRef('http://www.w3.org/2000/10/swap/data#Cwm'), rdflib.term.URIRef('http://usefulinc.com/ns/doap#developer'), rdflib.term.URIRef('https://www.w3.org/People/Berners-Lee/card#i'))\n",
      "(rdflib.term.BNode('N424d8e81cd954acebac301a7ed6c7be0'), rdflib.term.URIRef('http://www.w3.org/2003/01/geo/wgs84_pos#lat'), rdflib.term.Literal('42.361860'))\n",
      "(rdflib.term.URIRef('https://www.w3.org/People/Berners-Lee/card#i'), rdflib.term.URIRef('http://www.w3.org/2000/10/swap/pim/contact#preferredURI'), rdflib.term.Literal('https://www.w3.org/People/Berners-Lee/card#i'))\n",
      "(rdflib.term.BNode('N2fff3ecf12344cdebe69815aa92cfc8c'), rdflib.term.URIRef('http://www.w3.org/2006/vcard/ns#value'), rdflib.term.URIRef('tel:+1-617-253-5702'))\n",
      "(rdflib.term.URIRef('http://www.w3.org/2011/Talks/0331-hyderabad-tbl/data#talk'), rdflib.term.URIRef('http://xmlns.com/foaf/0.1/maker'), rdflib.term.URIRef('https://www.w3.org/People/Berners-Lee/card#i'))\n",
      "(rdflib.term.URIRef('https://www.w3.org/People/Berners-Lee/card#i'), rdflib.term.URIRef('http://xmlns.com/foaf/0.1/homepage'), rdflib.term.URIRef('https://www.w3.org/People/Berners-Lee/'))\n",
      "(rdflib.term.URIRef('https://timbl.com/timbl/Public/friends.ttl'), rdflib.term.URIRef('http://purl.org/dc/elements/1.1/title'), rdflib.term.Literal(\"Tim Berners-Lee's editable FOAF file\"))\n",
      "(rdflib.term.URIRef('https://timbl.com/timbl/Public/friends.ttl'), rdflib.term.URIRef('http://xmlns.com/foaf/0.1/maker'), rdflib.term.URIRef('https://www.w3.org/People/Berners-Lee/card#i'))\n",
      "(rdflib.term.URIRef('https://www.w3.org/People/Berners-Lee/card#i'), rdflib.term.URIRef('http://xmlns.com/foaf/0.1/img'), rdflib.term.URIRef('https://www.w3.org/Press/Stock/Berners-Lee/2001-europaeum-eighth.jpg'))\n",
      "(rdflib.term.URIRef('http://www.w3.org/2011/Talks/0331-hyderabad-tbl/data#talk'), rdflib.term.URIRef('http://purl.org/dc/terms/title'), rdflib.term.Literal('Designing the Web for an Open Society'))\n",
      "(rdflib.term.URIRef('https://www.w3.org/People/Berners-Lee/card#i'), rdflib.term.URIRef('http://xmlns.com/foaf/0.1/name'), rdflib.term.Literal('Timothy Berners-Lee'))\n",
      "(rdflib.term.URIRef('https://www.w3.org/People/Berners-Lee/card#i'), rdflib.term.URIRef('http://rdfs.org/sioc/ns#avatar'), rdflib.term.URIRef('http://www.w3.org/People/Berners-Lee/images/timbl-image-by-Coz-cropped.jpg'))\n",
      "(rdflib.term.BNode('N7ea1cec36f3c4c28960bef2d795a19b6'), rdflib.term.URIRef('http://www.w3.org/ns/auth/cert#modulus'), rdflib.term.Literal('ebe99c737bd3670239600547e5e2eb1d1497da39947b6576c3c44ffeca32cf0f2f7cbee3c47001278a90fc7fc5bcf292f741eb1fcd6bbe7f90650afb519cf13e81b2bffc6e02063ee5a55781d420b1dfaf61c15758480e66d47fb0dcb5fa7b9f7f1052e5ccbd01beee9553c3b6b51f4daf1fce991294cd09a3d1d636bc6c7656e4455d0aff06daec740ed0084aa6866fcae1359de61cc12dbe37c8fa42e977c6e727a8258bb9a3f265b27e3766fe0697f6aa0bcc81c3f026e387bd7bbc81580dc1853af2daa099186a9f59da526474ef6ec0a3d84cf400be3261b6b649dea1f78184862d34d685d2d587f09acc14cd8e578fdd2283387821296f0af39b8d8845', datatype=rdflib.term.URIRef('http://www.w3.org/2001/XMLSchema#hexBinary')))\n",
      "(rdflib.term.URIRef('https://www.w3.org/People/Berners-Lee/card#i'), rdflib.term.URIRef('http://xmlns.com/foaf/0.1/account'), rdflib.term.URIRef('http://www.reddit.com/user/timbl/'))\n",
      "(rdflib.term.URIRef('https://www.w3.org/People/Berners-Lee/card#i'), rdflib.term.URIRef('http://xmlns.com/foaf/0.1/nick'), rdflib.term.Literal('timbl'))\n",
      "(rdflib.term.URIRef('https://www.w3.org/People/Berners-Lee/card#i'), rdflib.term.URIRef('http://www.w3.org/2006/vcard/ns#fn'), rdflib.term.Literal('Tim Berners-Lee'))\n",
      "(rdflib.term.URIRef('http://dig.csail.mit.edu/breadcrumbs/blog/4'), rdflib.term.URIRef('http://www.w3.org/2000/01/rdf-schema#seeAlso'), rdflib.term.URIRef('http://dig.csail.mit.edu/breadcrumbs/blog/feed/4'))\n",
      "(rdflib.term.URIRef('http://dig.csail.mit.edu/data#DIG'), rdflib.term.URIRef('http://xmlns.com/foaf/0.1/member'), rdflib.term.URIRef('https://www.w3.org/People/Berners-Lee/card#i'))\n",
      "(rdflib.term.BNode('N6b94b85559f14bbb891f9e3e7076da37'), rdflib.term.URIRef('http://www.w3.org/2006/vcard/ns#postal-code'), rdflib.term.Literal('02139'))\n",
      "(rdflib.term.URIRef('https://www.w3.org/People/Berners-Lee/card#i'), rdflib.term.URIRef('http://xmlns.com/foaf/0.1/based_near'), rdflib.term.BNode('N424d8e81cd954acebac301a7ed6c7be0'))\n",
      "(rdflib.term.URIRef('http://www.ecs.soton.ac.uk/~dt2/dlstuff/www2006_data#panel-panelk01'), rdflib.term.URIRef('http://www.w3.org/2000/10/swap/pim/contact#participant'), rdflib.term.URIRef('https://www.w3.org/People/Berners-Lee/card#i'))\n",
      "(rdflib.term.URIRef('http://www.w3.org/People/Berners-Lee/card'), rdflib.term.URIRef('http://www.w3.org/1999/02/22-rdf-syntax-ns#type'), rdflib.term.URIRef('http://xmlns.com/foaf/0.1/PersonalProfileDocument'))\n",
      "(rdflib.term.URIRef('http://www.w3.org/DesignIssues/Overview.html'), rdflib.term.URIRef('http://xmlns.com/foaf/0.1/maker'), rdflib.term.URIRef('https://www.w3.org/People/Berners-Lee/card#i'))\n",
      "(rdflib.term.BNode('N6b94b85559f14bbb891f9e3e7076da37'), rdflib.term.URIRef('http://www.w3.org/1999/02/22-rdf-syntax-ns#type'), rdflib.term.URIRef('http://www.w3.org/2006/vcard/ns#Work'))\n",
      "(rdflib.term.BNode('N7ea1cec36f3c4c28960bef2d795a19b6'), rdflib.term.URIRef('http://www.w3.org/1999/02/22-rdf-syntax-ns#type'), rdflib.term.URIRef('http://www.w3.org/ns/auth/cert#RSAPublicKey'))\n",
      "(rdflib.term.URIRef('http://www.w3.org/People/Berners-Lee/card#i'), rdflib.term.URIRef('http://www.w3.org/2002/07/owl#sameAs'), rdflib.term.URIRef('https://www.w3.org/People/Berners-Lee/card#i'))\n",
      "(rdflib.term.BNode('N6b94b85559f14bbb891f9e3e7076da37'), rdflib.term.URIRef('http://www.w3.org/2006/vcard/ns#region'), rdflib.term.Literal('MA'))\n",
      "(rdflib.term.URIRef('https://www.w3.org/People/Berners-Lee/card#i'), rdflib.term.URIRef('http://www.w3.org/2000/10/swap/pim/contact#homePage'), rdflib.term.URIRef('http://www.w3.org/People/Berners-Lee/'))\n",
      "(rdflib.term.URIRef('https://www.w3.org/People/Berners-Lee/card#i'), rdflib.term.URIRef('http://www.w3.org/ns/auth/acl#delegates'), rdflib.term.URIRef('https://databox.me:3200/webid#me'))\n",
      "(rdflib.term.URIRef('https://www.w3.org/People/Berners-Lee/card#i'), rdflib.term.URIRef('http://www.w3.org/ns/pim/space#preferencesFile'), rdflib.term.URIRef('https://timbl.com/timbl/Data/preferences.n3'))\n",
      "(rdflib.term.URIRef('https://www.w3.org/People/Berners-Lee/card#i'), rdflib.term.URIRef('http://xmlns.com/foaf/0.1/phone'), rdflib.term.URIRef('tel:+1-(617)-253-5702'))\n",
      "(rdflib.term.URIRef('https://www.w3.org/People/Berners-Lee/card#i'), rdflib.term.URIRef('http://www.w3.org/2006/vcard/ns#hasAddress'), rdflib.term.BNode('N6b94b85559f14bbb891f9e3e7076da37'))\n",
      "(rdflib.term.URIRef('https://www.w3.org/People/Berners-Lee/card#i'), rdflib.term.URIRef('http://www.w3.org/ns/pim/space#storage'), rdflib.term.URIRef('https://timbl.databox.me/'))\n",
      "(rdflib.term.URIRef('http://www.w3.org/data#W3C'), rdflib.term.URIRef('http://xmlns.com/foaf/0.1/member'), rdflib.term.URIRef('https://www.w3.org/People/Berners-Lee/card#i'))\n",
      "(rdflib.term.BNode('Naf4bfad726e148fc882eff1350f5ce03'), rdflib.term.URIRef('http://www.w3.org/2000/10/swap/pim/contact#street'), rdflib.term.Literal('32 Vassar Street'))\n",
      "(rdflib.term.URIRef('https://www.w3.org/People/Berners-Lee/card#i'), rdflib.term.URIRef('http://www.w3.org/ns/ldp#inbox'), rdflib.term.URIRef('https://timbl.com/timbl/Public/Inbox'))\n",
      "(rdflib.term.URIRef('https://www.w3.org/People/Berners-Lee/card#i'), rdflib.term.URIRef('http://www.w3.org/2000/10/swap/pim/contact#publicHomePage'), rdflib.term.URIRef('http://www.w3.org/People/Berners-Lee/'))\n",
      "(rdflib.term.BNode('Naf4bfad726e148fc882eff1350f5ce03'), rdflib.term.URIRef('http://www.w3.org/2000/10/swap/pim/contact#street2'), rdflib.term.Literal('MIT CSAIL Room 32-G524'))\n",
      "(rdflib.term.URIRef('https://www.w3.org/People/Berners-Lee/card#i'), rdflib.term.URIRef('http://xmlns.com/foaf/0.1/account'), rdflib.term.URIRef('http://twitter.com/timberners_lee'))\n",
      "(rdflib.term.URIRef('https://www.w3.org/People/Berners-Lee/card#i'), rdflib.term.URIRef('http://www.w3.org/2000/10/swap/pim/contact#office'), rdflib.term.BNode('N30970764fffb462ca9cc110951c82e5e'))\n",
      "(rdflib.term.URIRef('https://www.w3.org/People/Berners-Lee/card#i'), rdflib.term.URIRef('http://xmlns.com/foaf/0.1/mbox_sha1sum'), rdflib.term.Literal('965c47c5a70db7407210cef6e4e6f5374a525c5c'))\n",
      "(rdflib.term.URIRef('http://www.w3.org/People/Berners-Lee/card'), rdflib.term.URIRef('http://xmlns.com/foaf/0.1/maker'), rdflib.term.URIRef('https://www.w3.org/People/Berners-Lee/card#i'))\n",
      "(rdflib.term.URIRef('http://www.w3.org/People/Berners-Lee/card'), rdflib.term.URIRef('http://purl.org/dc/elements/1.1/title'), rdflib.term.Literal(\"Tim Berners-Lee's FOAF file\"))\n",
      "(rdflib.term.BNode('N7ea1cec36f3c4c28960bef2d795a19b6'), rdflib.term.URIRef('http://www.w3.org/ns/auth/cert#exponent'), rdflib.term.Literal('65537', datatype=rdflib.term.URIRef('http://www.w3.org/2001/XMLSchema#integer')))\n",
      "(rdflib.term.URIRef('https://www.w3.org/People/Berners-Lee/card#i'), rdflib.term.URIRef('http://www.w3.org/2000/01/rdf-schema#seeAlso'), rdflib.term.URIRef('https://timbl.com/timbl/Public/friends.ttl'))\n",
      "(rdflib.term.BNode('N7cc91171bb434bd2b572d91cb421d442'), rdflib.term.URIRef('http://www.w3.org/2003/01/geo/wgs84_pos#lat'), rdflib.term.Literal('42.361860'))\n",
      "(rdflib.term.BNode('Naf4bfad726e148fc882eff1350f5ce03'), rdflib.term.URIRef('http://www.w3.org/2000/10/swap/pim/contact#city'), rdflib.term.Literal('Cambridge'))\n",
      "(rdflib.term.URIRef('https://www.w3.org/People/Berners-Lee/card#i'), rdflib.term.URIRef('http://www.w3.org/2006/vcard/ns#hasTelephone'), rdflib.term.BNode('N2fff3ecf12344cdebe69815aa92cfc8c'))\n",
      "(rdflib.term.BNode('N30970764fffb462ca9cc110951c82e5e'), rdflib.term.URIRef('http://www.w3.org/2000/10/swap/pim/contact#phone'), rdflib.term.URIRef('tel:+1-617-253-5702'))\n"
     ]
    }
   ],
   "source": [
    "for subj, pred, obj in g:\n",
    "   print((subj, pred, obj))"
   ]
  },
  {
   "cell_type": "code",
   "execution_count": 8,
   "metadata": {},
   "outputs": [],
   "source": [
    "from rdflib import Graph, Literal, BNode, Namespace, RDF, URIRef\n",
    "from rdflib.namespace import DC, FOAF"
   ]
  },
  {
   "cell_type": "code",
   "execution_count": 9,
   "metadata": {},
   "outputs": [
    {
     "name": "stdout",
     "output_type": "stream",
     "text": [
      "--- printing raw triples ---\n",
      "(rdflib.term.BNode('N0bf8e148beff423db52e31469d7d18d6'), rdflib.term.URIRef('http://xmlns.com/foaf/0.1/nick'), rdflib.term.Literal('donna', lang='foo'))\n",
      "(rdflib.term.BNode('N0bf8e148beff423db52e31469d7d18d6'), rdflib.term.URIRef('http://www.w3.org/1999/02/22-rdf-syntax-ns#type'), rdflib.term.URIRef('http://xmlns.com/foaf/0.1/Person'))\n",
      "(rdflib.term.BNode('N0bf8e148beff423db52e31469d7d18d6'), rdflib.term.URIRef('http://xmlns.com/foaf/0.1/name'), rdflib.term.Literal('Donna Fales'))\n",
      "(rdflib.term.BNode('N0bf8e148beff423db52e31469d7d18d6'), rdflib.term.URIRef('http://xmlns.com/foaf/0.1/mbox'), rdflib.term.URIRef('mailto:donna@example.org'))\n"
     ]
    }
   ],
   "source": [
    "g = Graph()\n",
    "\n",
    "# Create an identifier to use as the subject for Donna.\n",
    "donna = BNode()\n",
    "\n",
    "# Add triples using store's add method.\n",
    "g.add( (donna, RDF.type, FOAF.Person) )\n",
    "g.add( (donna, FOAF.nick, Literal(\"donna\", lang=\"foo\")) )\n",
    "g.add( (donna, FOAF.name, Literal(\"Donna Fales\")) )\n",
    "g.add( (donna, FOAF.mbox, URIRef(\"mailto:donna@example.org\")) )\n",
    "\n",
    "# Iterate over triples in store and print them out.\n",
    "print(\"--- printing raw triples ---\")\n",
    "for s, p, o in g:\n",
    "    print((s, p, o))"
   ]
  },
  {
   "cell_type": "code",
   "execution_count": 10,
   "metadata": {},
   "outputs": [
    {
     "name": "stdout",
     "output_type": "stream",
     "text": [
      "--- printing mboxes ---\n",
      "mailto:donna@example.org\n"
     ]
    }
   ],
   "source": [
    "print(\"--- printing mboxes ---\")\n",
    "for person in g.subjects(RDF.type, FOAF.Person):\n",
    "    for mbox in g.objects(person, FOAF.mbox):\n",
    "        print(mbox)\n"
   ]
  },
  {
   "cell_type": "code",
   "execution_count": 11,
   "metadata": {},
   "outputs": [
    {
     "name": "stdout",
     "output_type": "stream",
     "text": [
      "b'@prefix dc: <http://purl.org/dc/elements/1.1/> .\\n@prefix foaf: <http://xmlns.com/foaf/0.1/> .\\n@prefix rdf: <http://www.w3.org/1999/02/22-rdf-syntax-ns#> .\\n@prefix rdfs: <http://www.w3.org/2000/01/rdf-schema#> .\\n@prefix xml: <http://www.w3.org/XML/1998/namespace> .\\n@prefix xsd: <http://www.w3.org/2001/XMLSchema#> .\\n\\n[] a foaf:Person ;\\n    foaf:mbox <mailto:donna@example.org> ;\\n    foaf:name \"Donna Fales\" ;\\n    foaf:nick \"donna\"@foo .\\n\\n'\n"
     ]
    }
   ],
   "source": [
    "g.bind(\"dc\", DC)\n",
    "g.bind(\"foaf\", FOAF)\n",
    "\n",
    "print( g.serialize(format='n3') )"
   ]
  },
  {
   "cell_type": "code",
   "execution_count": 12,
   "metadata": {},
   "outputs": [
    {
     "data": {
      "text/plain": [
       "62"
      ]
     },
     "execution_count": 12,
     "metadata": {},
     "output_type": "execute_result"
    }
   ],
   "source": [
    "f = Graph()\n",
    "f.parse(\"http://bigasterisk.com/foaf.rdf\")\n",
    "len(f)"
   ]
  },
  {
   "cell_type": "code",
   "execution_count": 2,
   "metadata": {},
   "outputs": [
    {
     "data": {
      "text/plain": [
       "rdflib.term.URIRef('http://www.w3.org/1999/02/22-rdf-syntax-ns#type')"
      ]
     },
     "execution_count": 2,
     "metadata": {},
     "output_type": "execute_result"
    }
   ],
   "source": [
    "from rdflib.namespace import RDF, FOAF\n",
    "\n",
    "RDF.type\n",
    "# = rdflib.term.URIRef(u'http://www.w3.org/1999/02/22-rdf-syntax-ns#type')\n",
    "\n",
    "# FOAF.knows\n",
    "# = rdflib.term.URIRef(u'http://xmlns.com/foaf/0.1/knows')"
   ]
  },
  {
   "cell_type": "code",
   "execution_count": 7,
   "metadata": {},
   "outputs": [
    {
     "ename": "NameError",
     "evalue": "name 'name' is not defined",
     "output_type": "error",
     "traceback": [
      "\u001b[1;31m---------------------------------------------------------------------------\u001b[0m",
      "\u001b[1;31mNameError\u001b[0m                                 Traceback (most recent call last)",
      "\u001b[1;32m<ipython-input-7-8af47c7ecb6d>\u001b[0m in \u001b[0;36m<module>\u001b[1;34m()\u001b[0m\n\u001b[0;32m      6\u001b[0m \u001b[1;33m\u001b[0m\u001b[0m\n\u001b[0;32m      7\u001b[0m \u001b[0maa\u001b[0m\u001b[1;33m.\u001b[0m\u001b[0madd\u001b[0m\u001b[1;33m(\u001b[0m \u001b[1;33m(\u001b[0m\u001b[0mbob\u001b[0m\u001b[1;33m,\u001b[0m \u001b[0mRDF\u001b[0m\u001b[1;33m.\u001b[0m\u001b[0mtype\u001b[0m\u001b[1;33m,\u001b[0m \u001b[0mFOAF\u001b[0m\u001b[1;33m.\u001b[0m\u001b[0mPerson\u001b[0m\u001b[1;33m)\u001b[0m \u001b[1;33m)\u001b[0m\u001b[1;33m\u001b[0m\u001b[0m\n\u001b[1;32m----> 8\u001b[1;33m \u001b[0maa\u001b[0m\u001b[1;33m.\u001b[0m\u001b[0madd\u001b[0m\u001b[1;33m(\u001b[0m \u001b[1;33m(\u001b[0m\u001b[0mbob\u001b[0m\u001b[1;33m,\u001b[0m \u001b[0mFOAF\u001b[0m\u001b[1;33m.\u001b[0m\u001b[0mname\u001b[0m\u001b[1;33m,\u001b[0m \u001b[0mname\u001b[0m\u001b[1;33m)\u001b[0m \u001b[1;33m)\u001b[0m\u001b[1;33m\u001b[0m\u001b[0m\n\u001b[0m\u001b[0;32m      9\u001b[0m \u001b[0maa\u001b[0m\u001b[1;33m.\u001b[0m\u001b[0madd\u001b[0m\u001b[1;33m(\u001b[0m \u001b[1;33m(\u001b[0m\u001b[0mbob\u001b[0m\u001b[1;33m,\u001b[0m \u001b[0mFOAF\u001b[0m\u001b[1;33m.\u001b[0m\u001b[0mknows\u001b[0m\u001b[1;33m,\u001b[0m \u001b[0mlinda\u001b[0m\u001b[1;33m)\u001b[0m \u001b[1;33m)\u001b[0m\u001b[1;33m\u001b[0m\u001b[0m\n\u001b[0;32m     10\u001b[0m \u001b[0maa\u001b[0m\u001b[1;33m.\u001b[0m\u001b[0madd\u001b[0m\u001b[1;33m(\u001b[0m \u001b[1;33m(\u001b[0m\u001b[0mlinda\u001b[0m\u001b[1;33m,\u001b[0m \u001b[0mRDF\u001b[0m\u001b[1;33m.\u001b[0m\u001b[0mtype\u001b[0m\u001b[1;33m,\u001b[0m \u001b[0mFOAF\u001b[0m\u001b[1;33m.\u001b[0m\u001b[0mPerson\u001b[0m\u001b[1;33m)\u001b[0m \u001b[1;33m)\u001b[0m\u001b[1;33m\u001b[0m\u001b[0m\n",
      "\u001b[1;31mNameError\u001b[0m: name 'name' is not defined"
     ]
    }
   ],
   "source": [
    "from rdflib import URIRef, BNode, Literal\n",
    "\n",
    "bob = URIRef(\"http://example.org/people/Bob\")\n",
    "linda = BNode() # a GUID is generated\n",
    "aa = rdflib.Graph()\n",
    "\n",
    "aa.add( (bob, RDF.type, FOAF.Person) )\n",
    "aa.add( (bob, FOAF.name, name) )\n",
    "aa.add( (bob, FOAF.knows, linda) )\n",
    "aa.add( (linda, RDF.type, FOAF.Person) )\n",
    "aa.add( (linda, FOAF.name, Literal('Linda') ) )\n",
    "\n",
    "print(aa.serialize(format='turtle'))"
   ]
  },
  {
   "cell_type": "code",
   "execution_count": 9,
   "metadata": {},
   "outputs": [
    {
     "data": {
      "text/plain": [
       "'4.2.2'"
      ]
     },
     "execution_count": 9,
     "metadata": {},
     "output_type": "execute_result"
    }
   ],
   "source": [
    "rdflib.__version__"
   ]
  },
  {
   "cell_type": "code",
   "execution_count": null,
   "metadata": {},
   "outputs": [],
   "source": []
  }
 ],
 "metadata": {
  "kernelspec": {
   "display_name": "Python 3",
   "language": "python",
   "name": "python3"
  },
  "language_info": {
   "codemirror_mode": {
    "name": "ipython",
    "version": 3
   },
   "file_extension": ".py",
   "mimetype": "text/x-python",
   "name": "python",
   "nbconvert_exporter": "python",
   "pygments_lexer": "ipython3",
   "version": "3.6.5"
  }
 },
 "nbformat": 4,
 "nbformat_minor": 2
}
