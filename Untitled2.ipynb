{
 "cells": [
  {
   "cell_type": "code",
   "execution_count": 13,
   "metadata": {},
   "outputs": [
    {
     "ename": "UnsupportedOperation",
     "evalue": "not writable",
     "output_type": "error",
     "traceback": [
      "\u001b[1;31m---------------------------------------------------------------------------\u001b[0m",
      "\u001b[1;31mUnsupportedOperation\u001b[0m                      Traceback (most recent call last)",
      "\u001b[1;32m<ipython-input-13-22658c490049>\u001b[0m in \u001b[0;36m<module>\u001b[1;34m()\u001b[0m\n\u001b[0;32m    130\u001b[0m \u001b[1;33m\u001b[0m\u001b[0m\n\u001b[0;32m    131\u001b[0m \u001b[1;32mif\u001b[0m \u001b[0m__name__\u001b[0m \u001b[1;33m==\u001b[0m \u001b[1;34m'__main__'\u001b[0m\u001b[1;33m:\u001b[0m\u001b[1;33m\u001b[0m\u001b[0m\n\u001b[1;32m--> 132\u001b[1;33m     \u001b[0mapp\u001b[0m\u001b[1;33m.\u001b[0m\u001b[0mrun\u001b[0m\u001b[1;33m(\u001b[0m\u001b[0mport\u001b[0m\u001b[1;33m=\u001b[0m\u001b[1;36m7000\u001b[0m\u001b[1;33m,\u001b[0m \u001b[0mhost\u001b[0m\u001b[1;33m=\u001b[0m\u001b[1;34m'0.0.0.0'\u001b[0m\u001b[1;33m,\u001b[0m \u001b[0mdebug\u001b[0m\u001b[1;33m=\u001b[0m\u001b[1;32mTrue\u001b[0m\u001b[1;33m)\u001b[0m\u001b[1;33m\u001b[0m\u001b[0m\n\u001b[0m\u001b[0;32m    133\u001b[0m \u001b[1;33m\u001b[0m\u001b[0m\n\u001b[0;32m    134\u001b[0m \u001b[1;33m\u001b[0m\u001b[0m\n",
      "\u001b[1;32mC:\\ProgramData\\Anaconda3\\lib\\site-packages\\flask\\app.py\u001b[0m in \u001b[0;36mrun\u001b[1;34m(self, host, port, debug, load_dotenv, **options)\u001b[0m\n\u001b[0;32m    936\u001b[0m         \u001b[0moptions\u001b[0m\u001b[1;33m.\u001b[0m\u001b[0msetdefault\u001b[0m\u001b[1;33m(\u001b[0m\u001b[1;34m'threaded'\u001b[0m\u001b[1;33m,\u001b[0m \u001b[1;32mTrue\u001b[0m\u001b[1;33m)\u001b[0m\u001b[1;33m\u001b[0m\u001b[0m\n\u001b[0;32m    937\u001b[0m \u001b[1;33m\u001b[0m\u001b[0m\n\u001b[1;32m--> 938\u001b[1;33m         \u001b[0mcli\u001b[0m\u001b[1;33m.\u001b[0m\u001b[0mshow_server_banner\u001b[0m\u001b[1;33m(\u001b[0m\u001b[0mself\u001b[0m\u001b[1;33m.\u001b[0m\u001b[0menv\u001b[0m\u001b[1;33m,\u001b[0m \u001b[0mself\u001b[0m\u001b[1;33m.\u001b[0m\u001b[0mdebug\u001b[0m\u001b[1;33m,\u001b[0m \u001b[0mself\u001b[0m\u001b[1;33m.\u001b[0m\u001b[0mname\u001b[0m\u001b[1;33m,\u001b[0m \u001b[1;32mFalse\u001b[0m\u001b[1;33m)\u001b[0m\u001b[1;33m\u001b[0m\u001b[0m\n\u001b[0m\u001b[0;32m    939\u001b[0m \u001b[1;33m\u001b[0m\u001b[0m\n\u001b[0;32m    940\u001b[0m         \u001b[1;32mfrom\u001b[0m \u001b[0mwerkzeug\u001b[0m\u001b[1;33m.\u001b[0m\u001b[0mserving\u001b[0m \u001b[1;32mimport\u001b[0m \u001b[0mrun_simple\u001b[0m\u001b[1;33m\u001b[0m\u001b[0m\n",
      "\u001b[1;32mC:\\ProgramData\\Anaconda3\\lib\\site-packages\\flask\\cli.py\u001b[0m in \u001b[0;36mshow_server_banner\u001b[1;34m(env, debug, app_import_path, eager_loading)\u001b[0m\n\u001b[0;32m    627\u001b[0m             \u001b[0mmessage\u001b[0m \u001b[1;33m+=\u001b[0m \u001b[1;34m' (lazy loading)'\u001b[0m\u001b[1;33m\u001b[0m\u001b[0m\n\u001b[0;32m    628\u001b[0m \u001b[1;33m\u001b[0m\u001b[0m\n\u001b[1;32m--> 629\u001b[1;33m         \u001b[0mclick\u001b[0m\u001b[1;33m.\u001b[0m\u001b[0mecho\u001b[0m\u001b[1;33m(\u001b[0m\u001b[0mmessage\u001b[0m\u001b[1;33m)\u001b[0m\u001b[1;33m\u001b[0m\u001b[0m\n\u001b[0m\u001b[0;32m    630\u001b[0m \u001b[1;33m\u001b[0m\u001b[0m\n\u001b[0;32m    631\u001b[0m     \u001b[0mclick\u001b[0m\u001b[1;33m.\u001b[0m\u001b[0mecho\u001b[0m\u001b[1;33m(\u001b[0m\u001b[1;34m' * Environment: {0}'\u001b[0m\u001b[1;33m.\u001b[0m\u001b[0mformat\u001b[0m\u001b[1;33m(\u001b[0m\u001b[0menv\u001b[0m\u001b[1;33m)\u001b[0m\u001b[1;33m)\u001b[0m\u001b[1;33m\u001b[0m\u001b[0m\n",
      "\u001b[1;32mC:\\ProgramData\\Anaconda3\\lib\\site-packages\\click\\utils.py\u001b[0m in \u001b[0;36mecho\u001b[1;34m(message, file, nl, err, color)\u001b[0m\n\u001b[0;32m    257\u001b[0m \u001b[1;33m\u001b[0m\u001b[0m\n\u001b[0;32m    258\u001b[0m     \u001b[1;32mif\u001b[0m \u001b[0mmessage\u001b[0m\u001b[1;33m:\u001b[0m\u001b[1;33m\u001b[0m\u001b[0m\n\u001b[1;32m--> 259\u001b[1;33m         \u001b[0mfile\u001b[0m\u001b[1;33m.\u001b[0m\u001b[0mwrite\u001b[0m\u001b[1;33m(\u001b[0m\u001b[0mmessage\u001b[0m\u001b[1;33m)\u001b[0m\u001b[1;33m\u001b[0m\u001b[0m\n\u001b[0m\u001b[0;32m    260\u001b[0m     \u001b[0mfile\u001b[0m\u001b[1;33m.\u001b[0m\u001b[0mflush\u001b[0m\u001b[1;33m(\u001b[0m\u001b[1;33m)\u001b[0m\u001b[1;33m\u001b[0m\u001b[0m\n\u001b[0;32m    261\u001b[0m \u001b[1;33m\u001b[0m\u001b[0m\n",
      "\u001b[1;31mUnsupportedOperation\u001b[0m: not writable"
     ]
    }
   ],
   "source": [
    "import pandas as pd\n",
    "import numpy as np\n",
    "from flask import Flask, abort, jsonify, request\n",
    "from flask_cors import cross_origin\n",
    "from sklearn.externals import joblib\n",
    "from json import dumps\n",
    "import random\n",
    "import pickle\n",
    "import json\n",
    "\n",
    "\n",
    "app = Flask(__name__)\n",
    "\n",
    "\n",
    "@app.route('/hello', methods=['POST'])\n",
    "@cross_origin()\n",
    "def make_predict():\n",
    "\n",
    "    # get data, xform to a dict of  pandas series\n",
    "    data = request.get_json(force=True)\n",
    "\n",
    "    # this is just a silly example\n",
    "    sel = data['sel']\n",
    "    whe = data['whe']\n",
    "    msg = data['message']\n",
    "             \n",
    "            \n",
    "\n",
    "    def retvals(msg,ent=\"\",prob=\"\"):\n",
    "            results_dict = dict()\n",
    "            results_dict['response'] = msg\n",
    "            results_dict['problem'] = prob\n",
    "            results_dict['entity'] = ent\n",
    "            return results_dict\n",
    "    \n",
    "    \n",
    "    def makestatement(sel,whe):\n",
    "        sta = 'SELECT'\n",
    "        for i in sel:\n",
    "            if i in tab1:\n",
    "                sta = sta +' '+ 't1.'+i \n",
    "            if i in tab2:\n",
    "                sta= sta +' '+ 't2.'+i \n",
    "        sta = sta +' ' +'FROM tab1 as t1 , tab2 as t2 WHERE'\n",
    "        for i in whe:\n",
    "            if i[0] in tab1:\n",
    "                sta = sta +' '+ 't1.'+i[0]\n",
    "                sta = sta +' '+i[1]\n",
    "            if i[0] in tab2:\n",
    "                sta = sta +' '+ 't2.'+i[0]\n",
    "                sta = sta +' '+i[1]\n",
    "        sta = sta + ' ' + 'AND t1.id==t2.1id' \n",
    "        return sta\n",
    "    \n",
    "    return jsonify(results=makestatement(sel,whe))\n",
    "    \n",
    "    \n",
    "\n",
    "    \n",
    "    \n",
    "    #check for greeting words or knn\n",
    "#     if not entity and not problem:\n",
    "#         q_dict = {'greet' : [\"hello\", \"hi\", \"greetings\", \"sup\", \"what's up\",\"hey\"],\n",
    "#                   'wave' : [\"bye\", \"goodbye\", \"shutup\"]}\n",
    "\n",
    "#         a_dict = {'greet' : [\"'sup bro how can i help?\", \"hey, what can i do for you?\", \"hola, what's your problem\", \"hey, what's wrong?\"],\n",
    "#                   'wave' : [\"ok bye\", \"see you later\", \"don't go\", \"have a good day\"]}\n",
    "#         for word in msg.split():\n",
    "#             for key in q_dict.keys():\n",
    "#                 if word.lower() in q_dict[key]:\n",
    "#                     result = retvals(random.choice(a_dict[key]))\n",
    "#                     return jsonify(results=result)\n",
    "                \n",
    "#         #checking for knearest neighbours if not greetings\n",
    "#         identified = pro_dict[knear(msg)]\n",
    "#         res = \"i see you have a problem in \" + str(identified) + \" catogery, right?\"\n",
    "#         rdict = retvals(res,identified)\n",
    "#         return jsonify(results=rdict)\n",
    "    \n",
    "    \n",
    "    \n",
    "#     #if problem is already identified but not entity\n",
    "#     if entity and not problem:\n",
    "#         q_dict = {'greet' : [\"hello\", \"hi\", \"greetings\", \"sup\", \"what's up\",\"hey\"],\n",
    "#                   'wave' : [\"bye\", \"goodbye\", \"shutup\"]\n",
    "#                   }\n",
    "#         agree_dict = {'agree' : [\"yes\", \"yep\", \"ya\",\"yaa\",\"yaaa\",\"right\"]}\n",
    "#         negate_dict = {'negate' : [\"no\", \"nope\", \"wrong\",\"why\"]}\n",
    "\n",
    "#         a_dict = {'greet' : [\"you wanna restart the convo?, ok fine. HELLO\", \n",
    "#                              \"why a hello in middle of convo?, fine, hello what can i do for you?\", \n",
    "#                              \"ok, restarting the convo, what's your problem\", \"hey, what's  wrong?(asking again)\"],\n",
    "#                   'wave' : [\"ok bye\", \"see you later\", \"don't go\", \"have a good day\"]\n",
    "#                   }\n",
    "#         agree_dict_1 = {'agree' : [\"cool,can you describe the problem further\", \"yo, describe the problem bit more please\",\n",
    "#                              \"great i found correctly, so describe a bit more please\"]}\n",
    "#         negate_dict_1 = {'negate' : [\"oh damn, i am still learning, say your problem again\", \"oh no, say it again please\", \n",
    "#                               \"i am dumass, say your problem again\"]}\n",
    "#         for word in msg.split():\n",
    "#             for key in q_dict.keys():\n",
    "#                 if word.lower() in q_dict[key]:\n",
    "#                     result = retvals(random.choice(a_dict[key]))\n",
    "#                     return jsonify(results=result)\n",
    "#             for key in agree_dict.keys():\n",
    "#                 if word.lower() in agree_dict[key]:\n",
    "#                     result = retvals(random.choice(agree_dict_1[key]),entity)\n",
    "#                     return jsonify(results=result)\n",
    "#             for key in negate_dict.keys():\n",
    "#                 if word.lower() in negate_dict[key]:\n",
    "#                     result = retvals(random.choice(negate_dict_1[key]))\n",
    "#                     return jsonify(results=result)\n",
    "#         prob = probfind(msg)\n",
    "#         finalres = \"i am able to identify you problem as <strong>\" + str(entity) + \" - \" + prob + \"</strong>\" +\"  ,further process can be giving bot required access or sending request to respective departmnet. currently we don't have the data nor permission\"\n",
    "#         fres = retvals(finalres,entity,prob)\n",
    "#         return jsonify(results=fres)\n",
    "        \n",
    "    \n",
    "#     if entity and problem:\n",
    "#         restresp = \"i've think i've just found you problem. ok then restarting the conversation. Hello, how can i help you?\"\n",
    "#         fres = retvals(restresp)\n",
    "#         return jsonify(results=fres)\n",
    "    \n",
    "    #knearest neighbours \n",
    "    \n",
    "    \n",
    "    #results_dict = dict()\n",
    "    results_dict=retvals(\"shit happend, that is not expected\")\n",
    "    # return the json\n",
    "    return jsonify(results=results_dict)\n",
    "        \n",
    "if __name__ == '__main__':\n",
    "    app.run(port=7000, host='0.0.0.0', debug=True)\n",
    "    \n",
    "    "
   ]
  },
  {
   "cell_type": "code",
   "execution_count": 7,
   "metadata": {},
   "outputs": [],
   "source": [
    "sel = ['name']\n",
    "whe = [['payment','BETWEEN 40000 AND 50000']]"
   ]
  },
  {
   "cell_type": "code",
   "execution_count": 2,
   "metadata": {},
   "outputs": [],
   "source": [
    "tab1 = ['id', 'name', 'nickname', 'phone']\n",
    "tab2 = ['payment', 'date', '1id']"
   ]
  },
  {
   "cell_type": "code",
   "execution_count": 3,
   "metadata": {},
   "outputs": [
    {
     "ename": "SyntaxError",
     "evalue": "invalid syntax (<ipython-input-3-922f325f00e2>, line 1)",
     "output_type": "error",
     "traceback": [
      "\u001b[1;36m  File \u001b[1;32m\"<ipython-input-3-922f325f00e2>\"\u001b[1;36m, line \u001b[1;32m1\u001b[0m\n\u001b[1;33m    'SELECT' **** 'FROM tab1 as t1 and tab2 as t2' 'WHERE' **** 'AND' 't1.id==t2.1id' \"ORDER BY\" ** 'LIMIT'\u001b[0m\n\u001b[1;37m                ^\u001b[0m\n\u001b[1;31mSyntaxError\u001b[0m\u001b[1;31m:\u001b[0m invalid syntax\n"
     ]
    }
   ],
   "source": [
    "'SELECT' **** 'FROM tab1 as t1 and tab2 as t2' 'WHERE' **** 'AND' 't1.id==t2.1id' \"ORDER BY\" ** 'LIMIT'"
   ]
  },
  {
   "cell_type": "code",
   "execution_count": 11,
   "metadata": {},
   "outputs": [],
   "source": []
  },
  {
   "cell_type": "code",
   "execution_count": 12,
   "metadata": {},
   "outputs": [
    {
     "data": {
      "text/plain": [
       "'SELECT t1.name FROM tab1 as t1 , tab2 as t2 WHERE t2.payment BETWEEN 40000 AND 50000 AND t1.id==t2.1id'"
      ]
     },
     "execution_count": 12,
     "metadata": {},
     "output_type": "execute_result"
    }
   ],
   "source": [
    "makestatement(sel,whe)"
   ]
  },
  {
   "cell_type": "code",
   "execution_count": 6,
   "metadata": {},
   "outputs": [
    {
     "name": "stdout",
     "output_type": "stream",
     "text": [
      "salary\n"
     ]
    }
   ],
   "source": [
    "for i in whe:\n",
    "    print(i[0])"
   ]
  },
  {
   "cell_type": "code",
   "execution_count": null,
   "metadata": {},
   "outputs": [],
   "source": []
  }
 ],
 "metadata": {
  "kernelspec": {
   "display_name": "Python 3",
   "language": "python",
   "name": "python3"
  },
  "language_info": {
   "codemirror_mode": {
    "name": "ipython",
    "version": 3
   },
   "file_extension": ".py",
   "mimetype": "text/x-python",
   "name": "python",
   "nbconvert_exporter": "python",
   "pygments_lexer": "ipython3",
   "version": "3.6.5"
  }
 },
 "nbformat": 4,
 "nbformat_minor": 2
}
