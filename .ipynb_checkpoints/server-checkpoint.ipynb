{
 "cells": [
  {
   "cell_type": "code",
   "execution_count": 4,
   "metadata": {},
   "outputs": [
    {
     "ename": "SystemExit",
     "evalue": "1",
     "output_type": "error",
     "traceback": [
      "\u001b[1;31m---------------------------------------------------------------------------\u001b[0m",
      "\u001b[1;31mSystemExit\u001b[0m                                Traceback (most recent call last)",
      "\u001b[1;32m<ipython-input-3-7c1abe12dff1>\u001b[0m in \u001b[0;36m<module>\u001b[1;34m\u001b[0m\n\u001b[0;32m    130\u001b[0m \u001b[1;33m\u001b[0m\u001b[0m\n\u001b[0;32m    131\u001b[0m \u001b[1;32mif\u001b[0m \u001b[0m__name__\u001b[0m \u001b[1;33m==\u001b[0m \u001b[1;34m'__main__'\u001b[0m\u001b[1;33m:\u001b[0m\u001b[1;33m\u001b[0m\u001b[0m\n\u001b[1;32m--> 132\u001b[1;33m     \u001b[0mapp\u001b[0m\u001b[1;33m.\u001b[0m\u001b[0mrun\u001b[0m\u001b[1;33m(\u001b[0m\u001b[0mport\u001b[0m\u001b[1;33m=\u001b[0m\u001b[1;36m7000\u001b[0m\u001b[1;33m,\u001b[0m \u001b[0mhost\u001b[0m\u001b[1;33m=\u001b[0m\u001b[1;34m'0.0.0.0'\u001b[0m\u001b[1;33m,\u001b[0m \u001b[0mdebug\u001b[0m\u001b[1;33m=\u001b[0m\u001b[1;32mTrue\u001b[0m\u001b[1;33m)\u001b[0m\u001b[1;33m\u001b[0m\u001b[0m\n\u001b[0m\u001b[0;32m    133\u001b[0m \u001b[1;33m\u001b[0m\u001b[0m\n\u001b[0;32m    134\u001b[0m \u001b[0mget_ipython\u001b[0m\u001b[1;33m(\u001b[0m\u001b[1;33m)\u001b[0m\u001b[1;33m.\u001b[0m\u001b[0mrun_line_magic\u001b[0m\u001b[1;33m(\u001b[0m\u001b[1;34m'tb'\u001b[0m\u001b[1;33m,\u001b[0m \u001b[1;34m'  '\u001b[0m\u001b[1;33m)\u001b[0m\u001b[1;33m\u001b[0m\u001b[0m\n",
      "\u001b[1;32mE:\\anaconda\\lib\\site-packages\\flask\\app.py\u001b[0m in \u001b[0;36mrun\u001b[1;34m(self, host, port, debug, load_dotenv, **options)\u001b[0m\n\u001b[0;32m    941\u001b[0m \u001b[1;33m\u001b[0m\u001b[0m\n\u001b[0;32m    942\u001b[0m         \u001b[1;32mtry\u001b[0m\u001b[1;33m:\u001b[0m\u001b[1;33m\u001b[0m\u001b[0m\n\u001b[1;32m--> 943\u001b[1;33m             \u001b[0mrun_simple\u001b[0m\u001b[1;33m(\u001b[0m\u001b[0mhost\u001b[0m\u001b[1;33m,\u001b[0m \u001b[0mport\u001b[0m\u001b[1;33m,\u001b[0m \u001b[0mself\u001b[0m\u001b[1;33m,\u001b[0m \u001b[1;33m**\u001b[0m\u001b[0moptions\u001b[0m\u001b[1;33m)\u001b[0m\u001b[1;33m\u001b[0m\u001b[0m\n\u001b[0m\u001b[0;32m    944\u001b[0m         \u001b[1;32mfinally\u001b[0m\u001b[1;33m:\u001b[0m\u001b[1;33m\u001b[0m\u001b[0m\n\u001b[0;32m    945\u001b[0m             \u001b[1;31m# reset the first request information if the development server\u001b[0m\u001b[1;33m\u001b[0m\u001b[1;33m\u001b[0m\u001b[0m\n",
      "\u001b[1;32mE:\\anaconda\\lib\\site-packages\\werkzeug\\serving.py\u001b[0m in \u001b[0;36mrun_simple\u001b[1;34m(hostname, port, application, use_reloader, use_debugger, use_evalex, extra_files, reloader_interval, reloader_type, threaded, processes, request_handler, static_files, passthrough_errors, ssl_context)\u001b[0m\n\u001b[0;32m    810\u001b[0m         \u001b[1;32mfrom\u001b[0m \u001b[0mwerkzeug\u001b[0m\u001b[1;33m.\u001b[0m\u001b[0m_reloader\u001b[0m \u001b[1;32mimport\u001b[0m \u001b[0mrun_with_reloader\u001b[0m\u001b[1;33m\u001b[0m\u001b[0m\n\u001b[0;32m    811\u001b[0m         run_with_reloader(inner, extra_files, reloader_interval,\n\u001b[1;32m--> 812\u001b[1;33m                           reloader_type)\n\u001b[0m\u001b[0;32m    813\u001b[0m     \u001b[1;32melse\u001b[0m\u001b[1;33m:\u001b[0m\u001b[1;33m\u001b[0m\u001b[0m\n\u001b[0;32m    814\u001b[0m         \u001b[0minner\u001b[0m\u001b[1;33m(\u001b[0m\u001b[1;33m)\u001b[0m\u001b[1;33m\u001b[0m\u001b[0m\n",
      "\u001b[1;32mE:\\anaconda\\lib\\site-packages\\werkzeug\\_reloader.py\u001b[0m in \u001b[0;36mrun_with_reloader\u001b[1;34m(main_func, extra_files, interval, reloader_type)\u001b[0m\n\u001b[0;32m    273\u001b[0m             \u001b[0mreloader\u001b[0m\u001b[1;33m.\u001b[0m\u001b[0mrun\u001b[0m\u001b[1;33m(\u001b[0m\u001b[1;33m)\u001b[0m\u001b[1;33m\u001b[0m\u001b[0m\n\u001b[0;32m    274\u001b[0m         \u001b[1;32melse\u001b[0m\u001b[1;33m:\u001b[0m\u001b[1;33m\u001b[0m\u001b[0m\n\u001b[1;32m--> 275\u001b[1;33m             \u001b[0msys\u001b[0m\u001b[1;33m.\u001b[0m\u001b[0mexit\u001b[0m\u001b[1;33m(\u001b[0m\u001b[0mreloader\u001b[0m\u001b[1;33m.\u001b[0m\u001b[0mrestart_with_reloader\u001b[0m\u001b[1;33m(\u001b[0m\u001b[1;33m)\u001b[0m\u001b[1;33m)\u001b[0m\u001b[1;33m\u001b[0m\u001b[0m\n\u001b[0m\u001b[0;32m    276\u001b[0m     \u001b[1;32mexcept\u001b[0m \u001b[0mKeyboardInterrupt\u001b[0m\u001b[1;33m:\u001b[0m\u001b[1;33m\u001b[0m\u001b[0m\n\u001b[0;32m    277\u001b[0m         \u001b[1;32mpass\u001b[0m\u001b[1;33m\u001b[0m\u001b[0m\n",
      "\u001b[1;31mSystemExit\u001b[0m: 1"
     ]
    },
    {
     "name": "stdout",
     "output_type": "stream",
     "text": [
      " * Serving Flask app \"__main__\" (lazy loading)\n",
      " * Environment: production\n",
      "   WARNING: Do not use the development server in a production environment.\n",
      "   Use a production WSGI server instead.\n",
      " * Debug mode: on\n"
     ]
    },
    {
     "name": "stderr",
     "output_type": "stream",
     "text": [
      " * Restarting with stat\n"
     ]
    },
    {
     "ename": "SystemExit",
     "evalue": "1",
     "output_type": "error",
     "traceback": [
      "An exception has occurred, use %tb to see the full traceback.\n",
      "\u001b[1;31mSystemExit\u001b[0m\u001b[1;31m:\u001b[0m 1\n"
     ]
    }
   ],
   "source": [
    "\n",
    "import pandas as pd\n",
    "import numpy as np\n",
    "from flask import Flask, abort, jsonify, request\n",
    "from flask_cors import cross_origin\n",
    "from sklearn.externals import joblib\n",
    "from json import dumps\n",
    "import random\n",
    "import pickle\n",
    "import json\n",
    "\n",
    "\n",
    "app = Flask(__name__)\n",
    "\n",
    "\n",
    "@app.route('/querymaker', methods=['POST'])\n",
    "@cross_origin(origin='localhost')\n",
    "def make_predict():\n",
    "\n",
    "    # get data, xform to a dict of  pandas series\n",
    "    data = request.get_json(force=True)\n",
    "\n",
    "    # this is just a silly example\n",
    "    sel = data['sel']\n",
    "    whe = data['whe']\n",
    "    msg = data['ent']\n",
    "    tab1 = ['id', 'name', 'nickname', 'phone']\n",
    "    tab2 = ['payment', 'date', '1id']         \n",
    "            \n",
    "\n",
    "    def retvals(msg,ent=\"\",prob=\"\"):\n",
    "            results_dict = dict()\n",
    "            results_dict['response'] = msg\n",
    "            results_dict['problem'] = prob\n",
    "            results_dict['entity'] = ent\n",
    "            return results_dict\n",
    "    \n",
    "    \n",
    "    def makestatement(sel,whe):\n",
    "        sta = 'SELECT'\n",
    "        t=0\n",
    "        for i in sel:\n",
    "            if t == len(sel)-1:\n",
    "                if i in tab1:\n",
    "                    sta = sta +' '+ 't1.'+i \n",
    "                if i in tab2:\n",
    "                    sta= sta +' '+ 't2.'+i \n",
    "                t=t+1\n",
    "                \n",
    "            else:\n",
    "                if i in tab1:\n",
    "                    sta = sta +' '+ 't1.'+i \n",
    "                    sta = sta+','\n",
    "                if i in tab2:\n",
    "                    sta= sta +' '+ 't2.'+i \n",
    "                    sta = sta+','\n",
    "                t=t+1\n",
    "                \n",
    "        sta = sta +' ' +'FROM tab1 as t1 , tab2 as t2 WHERE'\n",
    "        print(len(whe))\n",
    "\n",
    "        if len(whe[0])!=0:\n",
    "            for i in whe:\n",
    "                if i[0] in tab1:\n",
    "                    sta = sta +' '+ 't1.'+i[0]\n",
    "                    sta = sta +' '+i[1]\n",
    "                if i[0] in tab2:\n",
    "                    sta = sta +' '+ 't2.'+i[0]\n",
    "                    sta = sta +' '+i[1]\n",
    "                sta = sta +' '+'AND'\n",
    "        sta = sta + ' ' + 't1.id==t2.1id' \n",
    "        return sta\n",
    "    \n",
    "    return jsonify(results=makestatement(sel,whe))\n",
    "\n",
    "\n",
    "@app.route('/nlp', methods=['POST'])\n",
    "@cross_origin(origin='localhost')\n",
    "def nlp():\n",
    "\n",
    "    # get data, xform to a dict of  pandas series\n",
    "    data = request.get_json(force=True)\n",
    "\n",
    "    # this is just a silly example\n",
    "    sel = data['sel']\n",
    "    whe = data['whe']\n",
    "    msg = data['ent']\n",
    "    tab1 = ['id', 'name', 'nickname', 'phone']\n",
    "    tab2 = ['payment', 'date', '1id']         \n",
    "            \n",
    "\n",
    "    def retvals(msg,ent=\"\",prob=\"\"):\n",
    "            results_dict = dict()\n",
    "            results_dict['response'] = msg\n",
    "            results_dict['problem'] = prob\n",
    "            results_dict['entity'] = ent\n",
    "            return results_dict\n",
    "    \n",
    "    \n",
    "    def makestatement(sel,whe):\n",
    "        sta = 'SELECT'\n",
    "        t=0\n",
    "        for i in sel:\n",
    "            if t == len(sel)-1:\n",
    "                if i in tab1:\n",
    "                    sta = sta +' '+ 't1.'+i \n",
    "                if i in tab2:\n",
    "                    sta= sta +' '+ 't2.'+i \n",
    "                t=t+1\n",
    "                \n",
    "            else:\n",
    "                if i in tab1:\n",
    "                    sta = sta +' '+ 't1.'+i \n",
    "                    sta = sta+','\n",
    "                if i in tab2:\n",
    "                    sta= sta +' '+ 't2.'+i \n",
    "                    sta = sta+','\n",
    "                t=t+1\n",
    "                \n",
    "        sta = sta +' ' +'FROM tab1 as t1 , tab2 as t2 WHERE'\n",
    "        print(len(whe))\n",
    "\n",
    "        if len(whe[0])!=0:\n",
    "            for i in whe:\n",
    "                if i[0] in tab1:\n",
    "                    sta = sta +' '+ 't1.'+i[0]\n",
    "                    sta = sta +' '+i[1]\n",
    "                if i[0] in tab2:\n",
    "                    sta = sta +' '+ 't2.'+i[0]\n",
    "                    sta = sta +' '+i[1]\n",
    "                sta = sta +' '+'AND'\n",
    "        sta = sta + ' ' + 't1.id==t2.1id' \n",
    "        return sta\n",
    "    \n",
    "    return jsonify(results=makestatement(sel,whe))\n",
    "    \n",
    "    \n",
    "\n",
    "    \n",
    "    \n",
    "    #check for greeting words or knn\n",
    "#     if not entity and not problem:\n",
    "#         q_dict = {'greet' : [\"hello\", \"hi\", \"greetings\", \"sup\", \"what's up\",\"hey\"],\n",
    "#                   'wave' : [\"bye\", \"goodbye\", \"shutup\"]}\n",
    "\n",
    "#         a_dict = {'greet' : [\"'sup bro how can i help?\", \"hey, what can i do for you?\", \"hola, what's your problem\", \"hey, what's wrong?\"],\n",
    "#                   'wave' : [\"ok bye\", \"see you later\", \"don't go\", \"have a good day\"]}\n",
    "#         for word in msg.split():\n",
    "#             for key in q_dict.keys():\n",
    "#                 if word.lower() in q_dict[key]:\n",
    "#                     result = retvals(random.choice(a_dict[key]))\n",
    "#                     return jsonify(results=result)\n",
    "                \n",
    "#         #checking for knearest neighbours if not greetings\n",
    "#         identified = pro_dict[knear(msg)]\n",
    "#         res = \"i see you have a problem in \" + str(identified) + \" catogery, right?\"\n",
    "#         rdict = retvals(res,identified)\n",
    "#         return jsonify(results=rdict)\n",
    "    \n",
    "    \n",
    "    \n",
    "#     #if problem is already identified but not entity\n",
    "#     if entity and not problem:\n",
    "#         q_dict = {'greet' : [\"hello\", \"hi\", \"greetings\", \"sup\", \"what's up\",\"hey\"],\n",
    "#                   'wave' : [\"bye\", \"goodbye\", \"shutup\"]\n",
    "#                   }\n",
    "#         agree_dict = {'agree' : [\"yes\", \"yep\", \"ya\",\"yaa\",\"yaaa\",\"right\"]}\n",
    "#         negate_dict = {'negate' : [\"no\", \"nope\", \"wrong\",\"why\"]}\n",
    "\n",
    "#         a_dict = {'greet' : [\"you wanna restart the convo?, ok fine. HELLO\", \n",
    "#                              \"why a hello in middle of convo?, fine, hello what can i do for you?\", \n",
    "#                              \"ok, restarting the convo, what's your problem\", \"hey, what's  wrong?(asking again)\"],\n",
    "#                   'wave' : [\"ok bye\", \"see you later\", \"don't go\", \"have a good day\"]\n",
    "#                   }\n",
    "#         agree_dict_1 = {'agree' : [\"cool,can you describe the problem further\", \"yo, describe the problem bit more please\",\n",
    "#                              \"great i found correctly, so describe a bit more please\"]}\n",
    "#         negate_dict_1 = {'negate' : [\"oh damn, i am still learning, say your problem again\", \"oh no, say it again please\", \n",
    "#                               \"i am dumass, say your problem again\"]}\n",
    "#         for word in msg.split():\n",
    "#             for key in q_dict.keys():\n",
    "#                 if word.lower() in q_dict[key]:\n",
    "#                     result = retvals(random.choice(a_dict[key]))\n",
    "#                     return jsonify(results=result)\n",
    "#             for key in agree_dict.keys():\n",
    "#                 if word.lower() in agree_dict[key]:\n",
    "#                     result = retvals(random.choice(agree_dict_1[key]),entity)\n",
    "#                     return jsonify(results=result)\n",
    "#             for key in negate_dict.keys():\n",
    "#                 if word.lower() in negate_dict[key]:\n",
    "#                     result = retvals(random.choice(negate_dict_1[key]))\n",
    "#                     return jsonify(results=result)\n",
    "#         prob = probfind(msg)\n",
    "#         finalres = \"i am able to identify you problem as <strong>\" + str(entity) + \" - \" + prob + \"</strong>\" +\"  ,further process can be giving bot required access or sending request to respective departmnet. currently we don't have the data nor permission\"\n",
    "#         fres = retvals(finalres,entity,prob)\n",
    "#         return jsonify(results=fres)\n",
    "        \n",
    "    \n",
    "#     if entity and problem:\n",
    "#         restresp = \"i've think i've just found you problem. ok then restarting the conversation. Hello, how can i help you?\"\n",
    "#         fres = retvals(restresp)\n",
    "#         return jsonify(results=fres)\n",
    "    \n",
    "    #knearest neighbours \n",
    "    \n",
    "    \n",
    "    #results_dict = dict()\n",
    "    results_dict=retvals(\"shit happend, that is not expected\")\n",
    "    # return the json\n",
    "    return jsonify(results=results_dict)\n",
    "        \n",
    "if __name__ == '__main__':\n",
    "    app.run(port=7000, host='0.0.0.0', debug=True)\n",
    "    \n"
   ]
  },
  {
   "cell_type": "code",
   "execution_count": 7,
   "metadata": {},
   "outputs": [],
   "source": [
    "sel = ['name']\n",
    "whe = [['payment','BETWEEN 40000 AND 50000']]"
   ]
  },
  {
   "cell_type": "code",
   "execution_count": 2,
   "metadata": {},
   "outputs": [],
   "source": [
    "tab1 = ['id', 'name', 'nickname', 'phone']\n",
    "tab2 = ['payment', 'date', '1id']"
   ]
  },
  {
   "cell_type": "code",
   "execution_count": 3,
   "metadata": {},
   "outputs": [
    {
     "ename": "SyntaxError",
     "evalue": "invalid syntax (<ipython-input-3-922f325f00e2>, line 1)",
     "output_type": "error",
     "traceback": [
      "\u001b[1;36m  File \u001b[1;32m\"<ipython-input-3-922f325f00e2>\"\u001b[1;36m, line \u001b[1;32m1\u001b[0m\n\u001b[1;33m    'SELECT' **** 'FROM tab1 as t1 and tab2 as t2' 'WHERE' **** 'AND' 't1.id==t2.1id' \"ORDER BY\" ** 'LIMIT'\u001b[0m\n\u001b[1;37m                ^\u001b[0m\n\u001b[1;31mSyntaxError\u001b[0m\u001b[1;31m:\u001b[0m invalid syntax\n"
     ]
    }
   ],
   "source": [
    "'SELECT' **** 'FROM tab1 as t1 and tab2 as t2' 'WHERE' **** 'AND' 't1.id==t2.1id' \"ORDER BY\" ** 'LIMIT'"
   ]
  },
  {
   "cell_type": "code",
   "execution_count": 11,
   "metadata": {},
   "outputs": [],
   "source": []
  },
  {
   "cell_type": "code",
   "execution_count": 12,
   "metadata": {},
   "outputs": [
    {
     "data": {
      "text/plain": [
       "'SELECT t1.name FROM tab1 as t1 , tab2 as t2 WHERE t2.payment BETWEEN 40000 AND 50000 AND t1.id==t2.1id'"
      ]
     },
     "execution_count": 12,
     "metadata": {},
     "output_type": "execute_result"
    }
   ],
   "source": [
    "makestatement(sel,whe)"
   ]
  },
  {
   "cell_type": "code",
   "execution_count": 6,
   "metadata": {},
   "outputs": [
    {
     "name": "stdout",
     "output_type": "stream",
     "text": [
      "salary\n"
     ]
    }
   ],
   "source": [
    "for i in whe:\n",
    "    print(i[0])"
   ]
  },
  {
   "cell_type": "code",
   "execution_count": 5,
   "metadata": {},
   "outputs": [
    {
     "ename": "ModuleNotFoundError",
     "evalue": "No module named 'quepy'",
     "output_type": "error",
     "traceback": [
      "\u001b[1;31m---------------------------------------------------------------------------\u001b[0m",
      "\u001b[1;31mModuleNotFoundError\u001b[0m                       Traceback (most recent call last)",
      "\u001b[1;32m<ipython-input-5-912102d65c97>\u001b[0m in \u001b[0;36m<module>\u001b[1;34m\u001b[0m\n\u001b[1;32m----> 1\u001b[1;33m \u001b[1;32mimport\u001b[0m \u001b[0mquepy\u001b[0m\u001b[1;33m\u001b[0m\u001b[0m\n\u001b[0m",
      "\u001b[1;31mModuleNotFoundError\u001b[0m: No module named 'quepy'"
     ]
    }
   ],
   "source": [
    "import quepy"
   ]
  },
  {
   "cell_type": "code",
   "execution_count": null,
   "metadata": {},
   "outputs": [],
   "source": []
  }
 ],
 "metadata": {
  "kernelspec": {
   "display_name": "Python 3",
   "language": "python",
   "name": "python3"
  },
  "language_info": {
   "codemirror_mode": {
    "name": "ipython",
    "version": 3
   },
   "file_extension": ".py",
   "mimetype": "text/x-python",
   "name": "python",
   "nbconvert_exporter": "python",
   "pygments_lexer": "ipython3",
   "version": "3.6.6"
  }
 },
 "nbformat": 4,
 "nbformat_minor": 2
}
