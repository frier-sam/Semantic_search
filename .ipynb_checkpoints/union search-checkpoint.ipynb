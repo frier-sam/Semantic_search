{
 "cells": [
  {
   "cell_type": "code",
   "execution_count": 3,
   "metadata": {},
   "outputs": [],
   "source": [
    "import mysql.connector\n",
    "\n",
    "cnx = mysql.connector.connect(user='root', password='',\n",
    "                              host='127.0.0.1',\n",
    "                              database='comserach')\n",
    "cnx.close()"
   ]
  },
  {
   "cell_type": "code",
   "execution_count": 14,
   "metadata": {},
   "outputs": [],
   "source": [
    "from datetime import date, datetime, timedelta\n",
    "\n",
    "cnx = mysql.connector.connect(user='root', password='',\n",
    "                              host='127.0.0.1',\n",
    "                              database='comserach')\n",
    "cursor = cnx.cursor()\n",
    "tomorrow = datetime.now().date() + timedelta(days=1)\n",
    "\n",
    "add_employee = (\"INSERT INTO tab1 \"\n",
    "               \"(name, nickname, phone) \"\n",
    "               \"VALUES (%s, %s, %s)\")\n",
    "add_salary = (\"INSERT INTO tab2 \"\n",
    "              \"(1id, payment, date) \"\n",
    "              \"VALUES (%s, %s, %s)\")\n",
    "\n",
    "data_employee = ('himanshu kumar', 'himan', 9999999999)\n",
    "\n",
    "# Insert new employee\n",
    "cursor.execute(add_employee, data_employee)\n",
    "emp_no = cursor.lastrowid\n",
    "\n",
    "# Insert salary information\n",
    "\n",
    "data_sal = (emp_no, 50000, tomorrow)\n",
    "\n",
    "data_salary = {\n",
    "  'emp_no': emp_no,\n",
    "  'salary': 50000,\n",
    "  'date': tomorrow,\n",
    "  \n",
    "}\n",
    "cursor.execute(add_salary, data_sal)\n",
    "\n",
    "# Make sure data is committed to the database\n",
    "cnx.commit()\n",
    "\n",
    "cursor.close()\n",
    "cnx.close()"
   ]
  },
  {
   "cell_type": "code",
   "execution_count": 15,
   "metadata": {},
   "outputs": [],
   "source": [
    "names = ['mohit babu','vaibhav jaiswal','abhinav bijarnia','summit ron','dinabandu behara','ashu mohan','vibhanshu yadav','tarun kumar','pragathi sristi']\n",
    "nicknames = ['mohit','vaibhav','abhi','summit','bhera','ashu','yadav','tarun','pragathi']"
   ]
  },
  {
   "cell_type": "code",
   "execution_count": 19,
   "metadata": {},
   "outputs": [],
   "source": [
    "for i in range(len(names)):\n",
    "    cnx = mysql.connector.connect(user='root', password='',\n",
    "                              host='127.0.0.1',\n",
    "                              database='comserach')\n",
    "    cursor = cnx.cursor()\n",
    "    tomorrow = datetime.now().date() + timedelta(days=1)\n",
    "    \n",
    "    add_employee = (\"INSERT INTO tab1 \"\n",
    "                   \"(name, nickname, phone) \"\n",
    "                   \"VALUES (%s, %s, %s)\")\n",
    "    add_salary = (\"INSERT INTO tab2 \"\n",
    "                  \"(1id, payment, date) \"\n",
    "                  \"VALUES (%s, %s, %s)\")\n",
    "    \n",
    "    data_employee = (names[i], nicknames[i], 9999999999)\n",
    "    \n",
    "    # Insert new employee\n",
    "    cursor.execute(add_employee, data_employee)\n",
    "    emp_no = cursor.lastrowid\n",
    "    \n",
    "    # Insert salary information\n",
    "    \n",
    "    data_sal = (emp_no, 50000, tomorrow)\n",
    "    \n",
    "    data_salary = {\n",
    "      'emp_no': emp_no,\n",
    "      'salary': 50000,\n",
    "      'date': tomorrow,\n",
    "      \n",
    "    }\n",
    "    cursor.execute(add_salary, data_sal)\n",
    "    \n",
    "    # Make sure data is committed to the database\n",
    "    cnx.commit()\n",
    "    \n",
    "    cursor.close()\n",
    "    cnx.close()"
   ]
  },
  {
   "cell_type": "code",
   "execution_count": 23,
   "metadata": {},
   "outputs": [],
   "source": [
    "#get all the contents \n",
    "cnx = mysql.connector.connect(user='root', password='',\n",
    "                              host='127.0.0.1',\n",
    "                              database='comserach')\n",
    "cursor = cnx.cursor()\n",
    "query = \"select * from tab1\"\n",
    "cursor.execute(query)\n",
    "records = cursor.fetchall()"
   ]
  },
  {
   "cell_type": "raw",
   "metadata": {},
   "source": []
  },
  {
   "cell_type": "code",
   "execution_count": null,
   "metadata": {},
   "outputs": [],
   "source": []
  }
 ],
 "metadata": {
  "kernelspec": {
   "display_name": "Python 3",
   "language": "python",
   "name": "python3"
  },
  "language_info": {
   "codemirror_mode": {
    "name": "ipython",
    "version": 3
   },
   "file_extension": ".py",
   "mimetype": "text/x-python",
   "name": "python",
   "nbconvert_exporter": "python",
   "pygments_lexer": "ipython3",
   "version": "3.6.5"
  }
 },
 "nbformat": 4,
 "nbformat_minor": 2
}
