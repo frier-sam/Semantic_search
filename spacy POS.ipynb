{
 "cells": [
  {
   "cell_type": "code",
   "execution_count": 1,
   "metadata": {},
   "outputs": [],
   "source": [
    "import spacy\n",
    "nlp = spacy.load('en')\n",
    "doc = nlp(u'This is a sentence.')"
   ]
  },
  {
   "cell_type": "code",
   "execution_count": 2,
   "metadata": {},
   "outputs": [
    {
     "name": "stdout",
     "output_type": "stream",
     "text": [
      "This this DET DT nsubj Xxxx True False\n",
      "is be VERB VBZ ROOT xx True True\n",
      "a a DET DT det x True True\n",
      "sentence sentence NOUN NN attr xxxx True False\n",
      ". . PUNCT . punct . False False\n"
     ]
    }
   ],
   "source": [
    "for token in doc:\n",
    "    print(token.text, token.lemma_, token.pos_, token.tag_, token.dep_,\n",
    "          token.shape_, token.is_alpha, token.is_stop)"
   ]
  },
  {
   "cell_type": "code",
   "execution_count": 3,
   "metadata": {},
   "outputs": [
    {
     "name": "stdout",
     "output_type": "stream",
     "text": [
      "DET\n",
      "VERB\n",
      "DET\n",
      "NOUN\n",
      "PUNCT\n"
     ]
    }
   ],
   "source": [
    "for token in doc:\n",
    "    print(token.pos_)"
   ]
  },
  {
   "cell_type": "code",
   "execution_count": null,
   "metadata": {},
   "outputs": [],
   "source": []
  },
  {
   "cell_type": "code",
   "execution_count": 4,
   "metadata": {},
   "outputs": [],
   "source": [
    "import pywikiscraper as pys\n"
   ]
  },
  {
   "cell_type": "code",
   "execution_count": 5,
   "metadata": {},
   "outputs": [
    {
     "name": "stderr",
     "output_type": "stream",
     "text": [
      "E:\\anaconda\\lib\\site-packages\\urllib3\\connectionpool.py:857: InsecureRequestWarning: Unverified HTTPS request is being made. Adding certificate verification is strongly advised. See: https://urllib3.readthedocs.io/en/latest/advanced-usage.html#ssl-warnings\n",
      "  InsecureRequestWarning)\n"
     ]
    },
    {
     "name": "stdout",
     "output_type": "stream",
     "text": [
      "[['1', 'Purpose for business entities'], ['2', 'Consolidated'], ['3', 'Government'], ['4', 'Personal'], ['5', 'Audit and legal implications'], ['6', 'Standards and regulations'], ['7', 'Inclusion in annual reports'], ['8', 'Notes'], ['9', 'Management discussion and analysis'], ['10', 'Move to electronic statements'], ['11', 'See also'], ['12', 'References'], ['13', 'Further reading'], ['14', 'External links']]\n"
     ]
    }
   ],
   "source": [
    "tt = pys.scrape('https://en.wikipedia.org/wiki/Financial_statement')"
   ]
  },
  {
   "cell_type": "code",
   "execution_count": 6,
   "metadata": {},
   "outputs": [
    {
     "data": {
      "text/plain": [
       "['1', '2', '3', '4', '5', '6', '7', '8', '9', '10', '11', '12', '13', '14']"
      ]
     },
     "execution_count": 6,
     "metadata": {},
     "output_type": "execute_result"
    }
   ],
   "source": [
    "list(tt.text_dict.keys())"
   ]
  },
  {
   "cell_type": "code",
   "execution_count": 7,
   "metadata": {},
   "outputs": [],
   "source": [
    "text = ''\n",
    "for kk in list(tt.text_dict.keys()):\n",
    "    for i in range(len(tt.text_dict[kk])):\n",
    "        text = text + tt.text_dict[kk][i]"
   ]
  },
  {
   "cell_type": "code",
   "execution_count": 9,
   "metadata": {},
   "outputs": [],
   "source": [
    "finaltext = nlp(text)"
   ]
  },
  {
   "cell_type": "code",
   "execution_count": 10,
   "metadata": {},
   "outputs": [
    {
     "data": {
      "text/plain": [
       "2786"
      ]
     },
     "execution_count": 10,
     "metadata": {},
     "output_type": "execute_result"
    }
   ],
   "source": [
    "# len(finaltext)"
   ]
  },
  {
   "cell_type": "code",
   "execution_count": 11,
   "metadata": {},
   "outputs": [
    {
     "data": {
      "text/plain": [
       "15718"
      ]
     },
     "execution_count": 11,
     "metadata": {},
     "output_type": "execute_result"
    }
   ],
   "source": [
    "# len(text)"
   ]
  },
  {
   "cell_type": "code",
   "execution_count": 13,
   "metadata": {},
   "outputs": [
    {
     "data": {
      "text/plain": [
       "['_',\n",
       " '__bytes__',\n",
       " '__class__',\n",
       " '__delattr__',\n",
       " '__dir__',\n",
       " '__doc__',\n",
       " '__eq__',\n",
       " '__format__',\n",
       " '__ge__',\n",
       " '__getattribute__',\n",
       " '__getitem__',\n",
       " '__gt__',\n",
       " '__hash__',\n",
       " '__init__',\n",
       " '__init_subclass__',\n",
       " '__iter__',\n",
       " '__le__',\n",
       " '__len__',\n",
       " '__lt__',\n",
       " '__ne__',\n",
       " '__new__',\n",
       " '__pyx_vtable__',\n",
       " '__reduce__',\n",
       " '__reduce_ex__',\n",
       " '__repr__',\n",
       " '__setattr__',\n",
       " '__setstate__',\n",
       " '__sizeof__',\n",
       " '__str__',\n",
       " '__subclasshook__',\n",
       " '__unicode__',\n",
       " '_bulk_merge',\n",
       " '_py_tokens',\n",
       " '_realloc',\n",
       " '_vector',\n",
       " '_vector_norm',\n",
       " 'cats',\n",
       " 'char_span',\n",
       " 'count_by',\n",
       " 'doc',\n",
       " 'ents',\n",
       " 'extend_tensor',\n",
       " 'from_array',\n",
       " 'from_bytes',\n",
       " 'from_disk',\n",
       " 'get_extension',\n",
       " 'get_lca_matrix',\n",
       " 'has_extension',\n",
       " 'has_vector',\n",
       " 'is_parsed',\n",
       " 'is_sentenced',\n",
       " 'is_tagged',\n",
       " 'mem',\n",
       " 'merge',\n",
       " 'noun_chunks',\n",
       " 'noun_chunks_iterator',\n",
       " 'print_tree',\n",
       " 'remove_extension',\n",
       " 'retokenize',\n",
       " 'sentiment',\n",
       " 'sents',\n",
       " 'set_extension',\n",
       " 'similarity',\n",
       " 'tensor',\n",
       " 'text',\n",
       " 'text_with_ws',\n",
       " 'to_array',\n",
       " 'to_bytes',\n",
       " 'to_disk',\n",
       " 'user_data',\n",
       " 'user_hooks',\n",
       " 'user_span_hooks',\n",
       " 'user_token_hooks',\n",
       " 'vector',\n",
       " 'vector_norm',\n",
       " 'vocab']"
      ]
     },
     "execution_count": 13,
     "metadata": {},
     "output_type": "execute_result"
    }
   ],
   "source": [
    "dir(finaltext)"
   ]
  },
  {
   "cell_type": "code",
   "execution_count": 23,
   "metadata": {},
   "outputs": [
    {
     "data": {
      "text/plain": [
       "Reported assets, liabilities, equity, income and expenses are directly related to an organization's financial position. "
      ]
     },
     "execution_count": 23,
     "metadata": {},
     "output_type": "execute_result"
    }
   ],
   "source": [
    "list(finaltext.sents)[1]"
   ]
  },
  {
   "cell_type": "code",
   "execution_count": 25,
   "metadata": {},
   "outputs": [
    {
     "name": "stdout",
     "output_type": "stream",
     "text": [
      "Reported JJ\n",
      "assets NNS\n",
      ", ,\n",
      "liabilities NNS\n",
      ", ,\n",
      "equity NN\n",
      ", ,\n",
      "income NN\n",
      "and CC\n",
      "expenses NNS\n",
      "are VBP\n",
      "directly RB\n",
      "related VBN\n",
      "to IN\n",
      "an DT\n",
      "organization NN\n",
      "'s POS\n",
      "financial JJ\n",
      "position NN\n",
      ". .\n",
      "\n",
      " \n"
     ]
    }
   ],
   "source": [
    "for word in list(finaltext.sents)[1]:  \n",
    "    print(word, word.tag_)"
   ]
  },
  {
   "cell_type": "code",
   "execution_count": 27,
   "metadata": {},
   "outputs": [],
   "source": [
    "noisy_pos_tags = [\"PROP\"]\n",
    "min_token_length = 2"
   ]
  },
  {
   "cell_type": "code",
   "execution_count": 28,
   "metadata": {},
   "outputs": [
    {
     "data": {
      "text/plain": [
       "[('financial', 68),\n",
       " ('statements', 42),\n",
       " ('parser', 20),\n",
       " ('output', 20),\n",
       " ('accounting', 17)]"
      ]
     },
     "execution_count": 28,
     "metadata": {},
     "output_type": "execute_result"
    }
   ],
   "source": [
    "#Function to check if the token is a noise or not  \n",
    "def isNoise(token):     \n",
    "    is_noise = False\n",
    "    if token.pos_ in noisy_pos_tags:\n",
    "        is_noise = True \n",
    "    elif token.is_stop == True:\n",
    "        is_noise = True\n",
    "    elif len(token.string) <= min_token_length:\n",
    "        is_noise = True\n",
    "    return is_noise \n",
    "def cleanup(token, lower = True):\n",
    "    if lower:\n",
    "       token = token.lower()\n",
    "    return token.strip()\n",
    "\n",
    "# top unigrams used in the reviews \n",
    "from collections import Counter\n",
    "cleaned_list = [cleanup(word.string) for word in finaltext if not isNoise(word)]\n",
    "Counter(cleaned_list) .most_common(5)\n",
    "# >> [( u'hotel', 683), (u'room', 652), (u'great', 300),  (u'sheraton', 285), (u'location', 271)]"
   ]
  },
  {
   "cell_type": "code",
   "execution_count": 30,
   "metadata": {},
   "outputs": [
    {
     "name": "stdout",
     "output_type": "stream",
     "text": [
      "GPE ['', 'the U.S. GAAP', 'U.S.', 'XML', 'DTTL', 'A.', 'the United States', 'Jorissen', 'UK', 'Mańko', 'Canada', 'South Africa', 'Britton', 'the United Kingdom', 'Australia']\n",
      "PERSON ['', 'Alexander', 'Consolidated', 'HTML', 'STEPHEN P.', 'XBRL', 'Wikisource-logo.svg/12px-Wikisource-logo.svg.png\")no', 'Library Briefing']\n",
      "PERCENT ['4162679-5']\n",
      "NORP ['D.']\n",
      "PRODUCT ['Model audit', 'Notes']\n",
      "WORK_OF_ART ['The Framework for the Preparation and Presentation of Financial Statements', 'International Financial Reporting and Analysis', 'The Financial Statements by Investopedia.com', 'Presentation of Financial Statements']\n",
      "CARDINAL ['two', '35', '978', '27', '201', '677–690', '10', '4']\n",
      "DATE ['2008-07-30', '2005', '2001', '2012-03-19', 'A.', '2006-11-15', '10630790', 'that year', '2011', 'hundreds of years', 'the year gone', 'June 2013', '24 June 2007', 'annual', 'April 20, 2012.']\n",
      "EVENT ['International Financial Reporting Standard']\n",
      "ORG ['See', 'Accountable Fundraising\\nCenter for Audit Quality', 'cite.citation{font-style:inherit}.mw-parser-output', 'Worth Noting', 'RICARDO S.', 'BROOKS', 'AS', 'Rafał', 'CAQ', 'the Deloitte Network', 'Resources', \"PepsiCo Management's Discussion\", 'GND', 'International Financial Reporting Standards', 'IASB', 'the U.S. Securities and Exchange Commission', 'MD&A', 'FASB', 'UN/CEFACT\\nUN/CEFACT Trade And Business Group Accounting', 'International Accounting Standards Board', 'the “Deloitte Network”', 'diligently.\"[3', 'Adaptive Proposal Construction for Reversible Jump MCMC', 'UN/CEFACT', 'PDF', 'Scandinavian Journal of Statistics', 'Discussion and Analysis', 'Consolidated', 'IAS', 'OCBOA', 'Deloitte Touche Tohmatsu Limited', 'XBRL', 'Enron', \"Nico Resources Management's\", 'IFRS 10 — Consolidated Financial Statements', 'GAAP', 'Second Edition', 'IFRS Foundation & International Accounting Standards Board\\nFinancial Accounting Standards Board', 'NARA', 'the European Union', 'IFRS', 'Generally Accepted Accounting Principles', 'Financial', 'The United States Financial Accounting Standards Board', 'MD&A & Other', 'Improving Business Reporting', 'ISBN', 'the International Accounting Standards Board', 'the European Parliament', 'International Accounting', 'CBA', 'Owners']\n"
     ]
    }
   ],
   "source": [
    "labels = set([w.label_ for w in finaltext.ents]) \n",
    "for label in labels: \n",
    "    entities = [cleanup(e.string, lower=False) for e in finaltext.ents if label==e.label_] \n",
    "    entities = list(set(entities)) \n",
    "    print(label,entities)"
   ]
  },
  {
   "cell_type": "code",
   "execution_count": 33,
   "metadata": {},
   "outputs": [],
   "source": [
    "# extract all review sentences that contains the term - hotel\n",
    "hotel = [sent for sent in finaltext.sents if 'report' in sent.string.lower()]\n",
    "\n",
    "# # create dependency tree\n",
    "# sentence = hotel[2] for word in sentence:\n",
    "# print( word, ': ', str(list(word.children)))"
   ]
  },
  {
   "cell_type": "code",
   "execution_count": 34,
   "metadata": {},
   "outputs": [
    {
     "data": {
      "text/plain": [
       "[Reported assets, liabilities, equity, income and expenses are directly related to an organization's financial position. ,\n",
       " These statements are also used as part of management's annual report to the stockholders.,\n",
       " Employees also need these reports in making collective bargaining agreements (CBA) with the management, in the case of labor unions or for individuals in discussing their compensation, promotion and rankings.,\n",
       " Main article: Consolidated financial statementConsolidated financial statements are defined as \"Financial statements  of a group in which the assets, liabilities, equity, income, expenses and cash flows of the parent (company) and its subsidiaries are presented as those of a single economic entity\", according to International Accounting Standard 27 \"Consolidated and separate financial statements\", and International Financial Reporting Standard 10 \"Consolidated financial statements\".[4][5]\n",
       " See also:,\n",
       " Typically, a personal financial statement consists of a single form for reporting personally held assets and liabilities (debts), or personal sources of income and expenses, or both.,\n",
       " Results of the audit are summarized in an audit report that either provide an unqualified opinion on the financial statements or qualifications as to its fairness and accuracy.,\n",
       " The audit opinion on the financial statements is usually included in the annual report.,\n",
       " Since audit reports tend to be addressed to the current shareholders, it is commonly thought that they owe a legal duty of care to them.,\n",
       " Nowadays auditors tend to include in their report liability restricting language, discouraging anyone other than the addressees of their report from relying on it.,\n",
       " Corporate officers—the chief executive officer (CEO) and chief financial officer (CFO)—are personally responsible for fair financial reporting that provides an accurate sense of the organization to those reading the report.,\n",
       " IASB develops International Financial Reporting Standards that have been adopted by Australia, Canada and the European Union (for publicly quoted companies only), are under consideration in South Africa and other countries.,\n",
       " To entice new investors, public companies assemble their financial statements on fine paper with pleasing graphics and photos in an annual report to shareholders, attempting to capture the excitement and culture of the organization in a \"marketing brochure\" of sorts.,\n",
       " In the United States, prior to the advent of the internet, the annual report was considered the most effective way for corporations to communicate with individual shareholders.,\n",
       " Blue chip companies went to great expense to produce and mail out attractive annual reports to every shareholder.,\n",
       " The annual report was often prepared in the style of a coffee table book.,\n",
       " Any items within the financial statements that are valuated by estimation are part of the notes if a substantial difference exists between the amount of the estimate previously reported and the actual result.,\n",
       " More recently a market driven global standard, XBRL (Extensible Business Reporting Language), which can be used for creating financial statements in a structured and computer readable format, has become more popular as a format for creating financial statements.  ,\n",
       " The UN/CEFACT created, with respect to Generally Accepted Accounting Principles, (GAAP), internal or external financial reporting XML messages to be used between enterprises and their partners, such as private interested parties (e.g. bank) and public collecting bodies (e.g. taxation authorities).,\n",
       " Comprehensive annual financial report,\n",
       " Improving Business Reporting: Insights into Enhancing Voluntary Disclosures.,\n",
       " ^ MD&A & Other Performance Reporting\n",
       " \n",
       " ^ \"Nico Resources Management's Discussion and Analysis\".,\n",
       " Retrieved 2014-02-19.\n",
       " \n",
       " Alexander, D., Britton, A., Jorissen, A., \"International Financial Reporting and Analysis\", Second Edition, 2005, ISBN 978-1-84480-201-2Library resources about  Financial statement \n",
       " Resources in your library\n",
       " IFRS Foundation & International Accounting Standards Board\n",
       " Financial Accounting Standards Board (U.S.)]"
      ]
     },
     "execution_count": 34,
     "metadata": {},
     "output_type": "execute_result"
    }
   ],
   "source": [
    "hotel"
   ]
  },
  {
   "cell_type": "code",
   "execution_count": null,
   "metadata": {},
   "outputs": [],
   "source": []
  },
  {
   "cell_type": "code",
   "execution_count": null,
   "metadata": {},
   "outputs": [],
   "source": []
  },
  {
   "cell_type": "code",
   "execution_count": null,
   "metadata": {},
   "outputs": [],
   "source": []
  },
  {
   "cell_type": "code",
   "execution_count": null,
   "metadata": {},
   "outputs": [],
   "source": []
  },
  {
   "cell_type": "code",
   "execution_count": null,
   "metadata": {},
   "outputs": [],
   "source": []
  },
  {
   "cell_type": "code",
   "execution_count": null,
   "metadata": {},
   "outputs": [],
   "source": []
  },
  {
   "cell_type": "code",
   "execution_count": null,
   "metadata": {},
   "outputs": [],
   "source": []
  },
  {
   "cell_type": "code",
   "execution_count": null,
   "metadata": {},
   "outputs": [],
   "source": []
  },
  {
   "cell_type": "code",
   "execution_count": null,
   "metadata": {},
   "outputs": [],
   "source": []
  },
  {
   "cell_type": "code",
   "execution_count": null,
   "metadata": {},
   "outputs": [],
   "source": []
  },
  {
   "cell_type": "code",
   "execution_count": null,
   "metadata": {},
   "outputs": [],
   "source": []
  },
  {
   "cell_type": "code",
   "execution_count": null,
   "metadata": {},
   "outputs": [],
   "source": []
  },
  {
   "cell_type": "code",
   "execution_count": null,
   "metadata": {},
   "outputs": [],
   "source": []
  },
  {
   "cell_type": "code",
   "execution_count": null,
   "metadata": {},
   "outputs": [],
   "source": []
  },
  {
   "cell_type": "code",
   "execution_count": null,
   "metadata": {},
   "outputs": [],
   "source": [
    "tt.text_dict['2'][0]"
   ]
  },
  {
   "cell_type": "code",
   "execution_count": null,
   "metadata": {},
   "outputs": [],
   "source": [
    "for i in range(2):\n",
    "    print(i)"
   ]
  },
  {
   "cell_type": "code",
   "execution_count": null,
   "metadata": {},
   "outputs": [],
   "source": []
  },
  {
   "cell_type": "code",
   "execution_count": null,
   "metadata": {},
   "outputs": [],
   "source": []
  }
 ],
 "metadata": {
  "kernelspec": {
   "display_name": "Python 3",
   "language": "python",
   "name": "python3"
  },
  "language_info": {
   "codemirror_mode": {
    "name": "ipython",
    "version": 3
   },
   "file_extension": ".py",
   "mimetype": "text/x-python",
   "name": "python",
   "nbconvert_exporter": "python",
   "pygments_lexer": "ipython3",
   "version": "3.6.6"
  }
 },
 "nbformat": 4,
 "nbformat_minor": 2
}
