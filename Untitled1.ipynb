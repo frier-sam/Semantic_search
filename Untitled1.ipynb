{
 "cells": [
  {
   "cell_type": "code",
   "execution_count": 1,
   "metadata": {},
   "outputs": [
    {
     "name": "stdout",
     "output_type": "stream",
     "text": [
      "Asturias\n",
      "منطقة أستورياس\n",
      "Asturien\n",
      "Asturias\n",
      "Asturies\n",
      "Asturie\n",
      "アストゥリアス州\n",
      "Asturië (regio)\n",
      "Asturia\n",
      "Astúrias\n",
      "Астурия\n",
      "阿斯图里亚斯\n"
     ]
    }
   ],
   "source": [
    "from SPARQLWrapper import SPARQLWrapper, JSON\n",
    "\n",
    "sparql = SPARQLWrapper(\"http://dbpedia.org/sparql\")\n",
    "sparql.setQuery(\"\"\"\n",
    "    PREFIX rdfs: <http://www.w3.org/2000/01/rdf-schema#>\n",
    "    SELECT ?label\n",
    "    WHERE { <http://dbpedia.org/resource/Asturias> rdfs:label ?label }\n",
    "\"\"\")\n",
    "sparql.setReturnFormat(JSON)\n",
    "results = sparql.query().convert()\n",
    "\n",
    "for result in results[\"results\"][\"bindings\"]:\n",
    "    print(result[\"label\"][\"value\"])"
   ]
  },
  {
   "cell_type": "code",
   "execution_count": 9,
   "metadata": {},
   "outputs": [],
   "source": [
    "sparql = SPARQLWrapper(\"http://dbpedia.org/sparql\")\n",
    "sparql.setQuery(\"\"\"\n",
    "        PREFIX pizza: <http://www.co-ode.org/ontologies/pizza/pizza.owl#>\n",
    "    PREFIX rdf: <http://www.w3.org/1999/02/22-rdf-syntax-ns#>\n",
    "    PREFIX rdfs: <http://www.w3.org/2000/01/rdf-schema#>\n",
    "    PREFIX owl: <http://www.w3.org/2002/07/owl#>\n",
    "\n",
    "    SELECT * WHERE {\n",
    "      ?topping rdfs:subClassOf pizza:PizzaTopping .\n",
    "      ?topping rdfs:subClassOf ?restriction .\n",
    "      ?restriction rdf:type owl:Restriction .\n",
    "      ?restriction ?p ?o .\n",
    "    }\n",
    "\"\"\")\n",
    "sparql.setReturnFormat(JSON)\n",
    "results = sparql.query().convert()\n",
    "\n",
    "for result in results[\"results\"][\"bindings\"]:\n",
    "    print(result[\"label\"][\"value\"])"
   ]
  },
  {
   "cell_type": "code",
   "execution_count": 3,
   "metadata": {},
   "outputs": [],
   "source": [
    "import requests\n",
    "\n",
    "r = requests.get('https://api.github.com/events')"
   ]
  },
  {
   "cell_type": "code",
   "execution_count": 5,
   "metadata": {},
   "outputs": [],
   "source": [
    "import pywikiscraper as pys"
   ]
  },
  {
   "cell_type": "code",
   "execution_count": 7,
   "metadata": {},
   "outputs": [
    {
     "name": "stderr",
     "output_type": "stream",
     "text": [
      "C:\\ProgramData\\Anaconda3\\lib\\site-packages\\urllib3\\connectionpool.py:858: InsecureRequestWarning: Unverified HTTPS request is being made. Adding certificate verification is strongly advised. See: https://urllib3.readthedocs.io/en/latest/advanced-usage.html#ssl-warnings\n",
      "  InsecureRequestWarning)\n"
     ]
    },
    {
     "name": "stdout",
     "output_type": "stream",
     "text": [
      "[['1', 'Purpose for business entities'], ['2', 'Consolidated'], ['3', 'Government'], ['4', 'Personal'], ['5', 'Audit and legal implications'], ['6', 'Standards and regulations'], ['7', 'Inclusion in annual reports'], ['8', 'Notes'], ['9', 'Management discussion and analysis'], ['10', 'Move to electronic statements'], ['11', 'See also'], ['12', 'References'], ['13', 'Further reading'], ['14', 'External links']]\n"
     ]
    }
   ],
   "source": [
    "url ='https://en.wikipedia.org/wiki/Financial_statement'\n",
    "data = pys.scrape(url,printing=True)"
   ]
  },
  {
   "cell_type": "code",
   "execution_count": 8,
   "metadata": {},
   "outputs": [
    {
     "data": {
      "text/plain": [
       "{'1': ['\"The objective of financial statements is to provide information about the financial position, performance and changes in financial position of an enterprise that is useful to a wide range of users in making economic decisions.\"[3] \\nFinancial statements should be understandable, relevant, reliable and comparable. Reported assets, liabilities, equity, income and expenses are directly related to an organization\\'s financial position. \\n',\n",
       "  'Financial statements are intended to be understandable by readers who have \"a reasonable knowledge of business and economic activities and accounting and who are willing to study the information diligently.\"[3]  Financial statements may be used by users for different purposes:\\n',\n",
       "  \"Owners and managers require financial statements to make important business decisions that affect its continued operations. Financial analysis is then performed on these statements to provide management with a more detailed understanding of the figures. These statements are also used as part of management's annual report to the stockholders.\\nEmployees also need these reports in making collective bargaining agreements (CBA) with the management, in the case of labor unions or for individuals in discussing their compensation, promotion and rankings.\\nProspective investors make use of financial statements to assess the viability of investing in a business. Financial analyses are often used by investors and are prepared by professionals (financial analysts), thus providing them with the basis for making investment decisions.\\nFinancial institutions (banks and other lending companies) use them to decide whether to grant a company with fresh working capital or extend debt securities (such as a long-term bank loan or debentures) to finance expansion and other significant expenditures.\"],\n",
       " '2': ['Main article: Consolidated financial statement',\n",
       "  'Consolidated financial statements are defined as \"Financial statements  of a group in which the assets, liabilities, equity, income, expenses and cash flows of the parent (company) and its subsidiaries are presented as those of a single economic entity\", according to International Accounting Standard 27 \"Consolidated and separate financial statements\", and International Financial Reporting Standard 10 \"Consolidated financial statements\".[4][5]\\n'],\n",
       " '3': ['See also: Fund accounting',\n",
       "  'The rules for the recording, measurement and presentation of government financial statements may be different from those required for business and even for non-profit organizations.  They may use either of two accounting methods: accrual accounting, or cost accounting, or a combination of the two (OCBOA). A complete set of chart of accounts is also used that is substantially different from the chart of a profit-oriented business.\\n'],\n",
       " '4': ['Personal financial statements may be required from persons applying for a personal loan or financial aid. Typically, a personal financial statement consists of a single form for reporting personally held assets and liabilities (debts), or personal sources of income and expenses, or both. The form to be filled out is determined by the organization supplying the loan or aid.\\n'],\n",
       " '5': ['Although laws differ from country to country, an audit of the financial statements of a public company is usually required for investment, financing, and tax purposes. These are usually performed by independent accountants or auditing firms. Results of the audit are summarized in an audit report that either provide an unqualified opinion on the financial statements or qualifications as to its fairness and accuracy. The audit opinion on the financial statements is usually included in the annual report.\\n',\n",
       "  'There has been much legal debate over who an auditor is liable to. Since audit reports tend to be addressed to the current shareholders, it is commonly thought that they owe a legal duty of care to them. But this may not be the case as determined by common law precedent.  In Canada, auditors are liable only to investors using a prospectus to buy shares in the primary market.  In the United Kingdom, they have been held liable to potential investors when the auditor was aware of the potential investor and how they would use the information in the financial statements. Nowadays auditors tend to include in their report liability restricting language, discouraging anyone other than the addressees of their report from relying on it. Liability is an important issue: in the UK, for example, auditors have unlimited liability.\\n',\n",
       "  'In the United States, especially in the post-Enron era there has been substantial concern about the accuracy of financial statements. Corporate officers—the chief executive officer (CEO) and chief financial officer (CFO)—are personally responsible for fair financial reporting that provides an accurate sense of the organization to those reading the report.\\n'],\n",
       " '6': ['Different countries have developed their own accounting principles over time, making international comparisons of companies difficult. To ensure uniformity and comparability between financial statements prepared by different companies, a set of guidelines and rules are used. Commonly referred to as Generally Accepted Accounting Principles (GAAP), these set of guidelines provide the basis in the preparation of financial statements, although many companies voluntarily disclose information beyond the scope of such requirements.[6]\\n',\n",
       "  'Recently there has been a push towards standardizing accounting rules made by the International Accounting Standards Board (\"IASB\"). IASB develops International Financial Reporting Standards that have been adopted by Australia, Canada and the European Union (for publicly quoted companies only), are under consideration in South Africa and other countries. The United States Financial Accounting Standards Board has made a commitment to converge the U.S. GAAP and IFRS over time.\\n'],\n",
       " '7': ['To entice new investors, public companies assemble their financial statements on fine paper with pleasing graphics and photos in an annual report to shareholders, attempting to capture the excitement and culture of the organization in a \"marketing brochure\" of sorts. Usually the company\\'s chief executive will write a letter to shareholders, describing management\\'s performance and the company\\'s financial highlights.\\n',\n",
       "  'In the United States, prior to the advent of the internet, the annual report was considered the most effective way for corporations to communicate with individual shareholders. Blue chip companies went to great expense to produce and mail out attractive annual reports to every shareholder. The annual report was often prepared in the style of a coffee table book.\\n'],\n",
       " '8': ['Additional information added to the end of financial statements that help explain specific items in the statements as well as provide a more comprehensive assessment of a company\\'s financial condition are known as notes (or \"notes to financial statements\"). \\n',\n",
       "  'Notes to financial statements can include information on debt, accounts, contingent liabilities, on going concern criteria, or on contextual information explaining the financial numbers (e.g. to indicate a lawsuit). The notes clarify individual statement line-items. Notes are also used to explain the accounting methods used to prepare the statements and they support valuations for how particular accounts have been computed. As an example: If a company lists a loss on a fixed asset impairment line in their income statement, the notes may state the reason for the impairment by describing how the asset became impaired. \\n',\n",
       "  'In consolidated financial statements, all subsidiaries are listed as well as the amount of ownership (controlling interest) that the parent company has in the subsidiaries. Any items within the financial statements that are valuated by estimation are part of the notes if a substantial difference exists between the amount of the estimate previously reported and the actual result. Full disclosure of the effects of the differences between the estimate and actual results should be included.\\n'],\n",
       " '9': [\"Management discussion and analysis or MD&A is an integrated part of a company's annual financial statements. The purpose of the MD&A is to provide a narrative explanation, through the eyes of management, of how an entity has performed in the past, its financial condition, and its future prospects. In so doing, the MD&A attempt to provide investors with complete, fair, and balanced information to help them decide whether to invest or continue to invest in an entity.[7]\\n\",\n",
       "  \"The section contains a description of the year gone by and some of the key factors that influenced the business of the company in that year, as well as a fair and unbiased overview of the company's past, present, and future.\\n\",\n",
       "  \"MD&A typically describes the corporation's liquidity position, capital resources,[8] results of its operations, underlying causes of material changes in financial statement items (such as asset impairment and restructuring charges), events of unusual or infrequent nature (such as mergers and acquisitions or share buybacks), positive and negative trends, effects of inflation, domestic and international market risks,[9] and significant uncertainties.\\n\"],\n",
       " '10': ['Financial statements have been created on paper for hundreds of years. The growth of the Web has seen more and more financial statements created in an electronic form which is exchangeable over the Web. Common forms of electronic financial statements are PDF and HTML. These types of electronic financial statements have their drawbacks in that it still takes a human to read the information in order to reuse the information contained in a financial statement.\\n',\n",
       "  'More recently a market driven global standard, XBRL (Extensible Business Reporting Language), which can be used for creating financial statements in a structured and computer readable format, has become more popular as a format for creating financial statements.  Many regulators around the world such as the U.S. Securities and Exchange Commission have mandated XBRL for the submission of financial information.\\n',\n",
       "  'The UN/CEFACT created, with respect to Generally Accepted Accounting Principles, (GAAP), internal or external financial reporting XML messages to be used between enterprises and their partners, such as private interested parties (e.g. bank) and public collecting bodies (e.g. taxation authorities). Many regulators use such messages to collect financial and economic information.\\n'],\n",
       " '11': ['Accountable Fundraising\\nCenter for Audit Quality (CAQ)\\nCorporate finance\\nFinancial statement analysis\\nComprehensive annual financial report\\nModel audit'],\n",
       " '12': ['\\n\\n^ EHLERS, RICARDO S.; BROOKS, STEPHEN P. (2008-07-30). \"Adaptive Proposal Construction for Reversible Jump MCMC\". Scandinavian Journal of Statistics. 35 (4): 677–690. doi:10.1111/j.1467-9469.2008.00606.x. ISSN\\xa00303-6898..mw-parser-output cite.citation{font-style:inherit}.mw-parser-output .citation q{quotes:\"\\\\\"\"\"\\\\\"\"\"\\'\"\"\\'\"}.mw-parser-output .citation .cs1-lock-free a{background:url(\"//upload.wikimedia.org/wikipedia/commons/thumb/6/65/Lock-green.svg/9px-Lock-green.svg.png\")no-repeat;background-position:right .1em center}.mw-parser-output .citation .cs1-lock-limited a,.mw-parser-output .citation .cs1-lock-registration a{background:url(\"//upload.wikimedia.org/wikipedia/commons/thumb/d/d6/Lock-gray-alt-2.svg/9px-Lock-gray-alt-2.svg.png\")no-repeat;background-position:right .1em center}.mw-parser-output .citation .cs1-lock-subscription a{background:url(\"//upload.wikimedia.org/wikipedia/commons/thumb/a/aa/Lock-red-alt-2.svg/9px-Lock-red-alt-2.svg.png\")no-repeat;background-position:right .1em center}.mw-parser-output .cs1-subscription,.mw-parser-output .cs1-registration{color:#555}.mw-parser-output .cs1-subscription span,.mw-parser-output .cs1-registration span{border-bottom:1px dotted;cursor:help}.mw-parser-output .cs1-ws-icon a{background:url(\"//upload.wikimedia.org/wikipedia/commons/thumb/4/4c/Wikisource-logo.svg/12px-Wikisource-logo.svg.png\")no-repeat;background-position:right .1em center}.mw-parser-output code.cs1-code{color:inherit;background:inherit;border:inherit;padding:inherit}.mw-parser-output .cs1-hidden-error{display:none;font-size:100%}.mw-parser-output .cs1-visible-error{font-size:100%}.mw-parser-output .cs1-maint{display:none;color:#33aa33;margin-left:0.3em}.mw-parser-output .cs1-subscription,.mw-parser-output .cs1-registration,.mw-parser-output .cs1-format{font-size:95%}.mw-parser-output .cs1-kern-left,.mw-parser-output .cs1-kern-wl-left{padding-left:0.2em}.mw-parser-output .cs1-kern-right,.mw-parser-output .cs1-kern-wl-right{padding-right:0.2em}\\n\\n^ \"Presentation of Financial Statements\" Standard IAS 1, International Accounting Standards Board. Accessed 24 June 2007.\\n\\n^ a b \"The Framework for the Preparation and Presentation of Financial Statements\" International Accounting Standards Board. Accessed 24 June 2007.\\n\\n^ \"IAS 27 — Separate Financial Statements (2011)\". www.iasplus.com. IAS Plus (This material is provided by Deloitte Touche Tohmatsu Limited (“DTTL”), or a member firm of DTTL, or one of their related entities. This material is provided “AS IS” and without warranty of any kind, express or implied.  Without limiting the foregoing, neither Deloitte Touche Tohmatsu Limited (“DTTL”), nor any member firm of DTTL (a “DTTL Member Firm”), nor any of their related entities (collectively, the “Deloitte Network”) warrants that this material will be error-free or will meet any particular criteria of performance or quality, and each entity of the Deloitte Network expressly disclaims all implied warranties, including without limitation warranties of merchantability, title, fitness for a particular purpose, non-infringement, compatibility, and accuracy.). Retrieved 2013-11-29.\\n\\n^ \"IFRS 10 — Consolidated Financial Statements\". www.iasplus.com. IAS Plus (This material is provided by Deloitte Touche Tohmatsu Limited (“DTTL”), or a member firm of DTTL, or one of their related entities. This material is provided “AS IS” and without warranty of any kind, express or implied.  Without limiting the foregoing, neither Deloitte Touche Tohmatsu Limited (“DTTL”), nor any member firm of DTTL (a “DTTL Member Firm”), nor any of their related entities (collectively, the “Deloitte Network”) warrants that this material will be error-free or will meet any particular criteria of performance or quality, and each entity of the Deloitte Network expressly disclaims all implied warranties, including without limitation warranties of merchantability, title, fitness for a particular purpose, non-infringement, compatibility, and accuracy.). Retrieved 2013-11-29.\\n\\n^ FASB, 2001. Improving Business Reporting: Insights into Enhancing Voluntary Disclosures. Retrieved on April 20, 2012.\\n\\n^ MD&A & Other Performance Reporting\\n\\n^ \"Nico Resources Management\\'s Discussion and Analysis\". Archived from the original on 2006-11-15. Retrieved 2014-02-19.\\n\\n^ \"PepsiCo Management\\'s Discussion and Analysis\". Archived from the original on 2012-03-19. Retrieved 2014-02-19.\\n\\n'],\n",
       " '13': ['Alexander, D., Britton, A., Jorissen, A., \"International Financial Reporting and Analysis\", Second Edition, 2005, ISBN\\xa0978-1-84480-201-2'],\n",
       " '14': ['Library resources about  Financial statement \\nResources in your library\\n',\n",
       "  'IFRS Foundation & International Accounting Standards Board\\nFinancial Accounting Standards Board (U.S.)\\nUN/CEFACT\\nUN/CEFACT Trade And Business Group Accounting And Audit\\nMańko, Rafał. \"New legal framework for financial statements\" (PDF). Library Briefing. Library of the European Parliament. Retrieved 6 June 2013.\\nFundamental Analysis: Notes To The Financial Statements by Investopedia.com\\nThe Notes to the Financial Statements May Be Worth Noting by Googobits.com',\n",
       "  'Authority control \\nGND: 4162679-5\\nLCCN: sh85048313\\nNARA: 10630790\\nNDL: 00574548\\n']}"
      ]
     },
     "execution_count": 8,
     "metadata": {},
     "output_type": "execute_result"
    }
   ],
   "source": [
    "data.text_dict"
   ]
  },
  {
   "cell_type": "code",
   "execution_count": null,
   "metadata": {},
   "outputs": [],
   "source": []
  }
 ],
 "metadata": {
  "kernelspec": {
   "display_name": "Python 3",
   "language": "python",
   "name": "python3"
  },
  "language_info": {
   "codemirror_mode": {
    "name": "ipython",
    "version": 3
   },
   "file_extension": ".py",
   "mimetype": "text/x-python",
   "name": "python",
   "nbconvert_exporter": "python",
   "pygments_lexer": "ipython3",
   "version": "3.6.5"
  }
 },
 "nbformat": 4,
 "nbformat_minor": 2
}
